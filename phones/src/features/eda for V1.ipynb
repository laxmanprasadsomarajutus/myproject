{
 "cells": [
  {
   "cell_type": "code",
   "execution_count": 2,
   "metadata": {},
   "outputs": [],
   "source": [
    "import re\n",
    "import numpy as np\n",
    "import pandas as pd\n",
    "import seaborn as sns\n",
    "pd.set_option('display.max_rows', None)\n",
    "pd.set_option('display.max_columns', None)"
   ]
  },
  {
   "cell_type": "code",
   "execution_count": null,
   "metadata": {},
   "outputs": [
    {
     "data": {
      "text/plain": [
       "57"
      ]
     },
     "execution_count": 97,
     "metadata": {},
     "output_type": "execute_result"
    }
   ],
   "source": [
    "data = pd.read_json(\"../../data/raw-old.json\")\n",
    "data.set_index(\"product_id\", inplace=True)\n",
    "len(data.columns)"
   ]
  },
  {
   "cell_type": "code",
   "execution_count": null,
   "metadata": {},
   "outputs": [
    {
     "data": {
      "text/plain": [
       "mrp                                      int64\n",
       "Brand                                   object\n",
       "Model Name                              object\n",
       "Network Service Provider                object\n",
       "OS                                      object\n",
       "Cellular Technology                     object\n",
       "RAM                                     object\n",
       "Product Dimensions                      object\n",
       "Batteries                               object\n",
       "Item model number                       object\n",
       "Wireless communication technologies     object\n",
       "Connectivity technologies               object\n",
       "GPS                                     object\n",
       "Special features                        object\n",
       "Display technology                      object\n",
       "Other display features                  object\n",
       "Resolution                              object\n",
       "Other camera features                   object\n",
       "Audio Jack                              object\n",
       "Form factor                             object\n",
       "Colour                                  object\n",
       "Battery Power Rating                    object\n",
       "Whats in the box                        object\n",
       "Manufacturer                            object\n",
       "Country of Origin                       object\n",
       "Item Weight                             object\n",
       "Screen Size                             object\n",
       "Screen Type                             object\n",
       "Battery Power (In mAH)                  object\n",
       "Inbuilt Storage (in GB)                 object\n",
       "Processor Brand                         object\n",
       "Operating System                        object\n",
       "Warranty Details                        object\n",
       "Camera Description                      object\n",
       "Battery type                            object\n",
       "Processor Speed                         object\n",
       "Item Dimensions                         object\n",
       "What's in the box                       object\n",
       "no of 5 star                             int64\n",
       "no of 4 star                             int64\n",
       "no of 3 star                             int64\n",
       "no of 2 star                             int64\n",
       "no of 1 star                             int64\n",
       "Device interface - primary              object\n",
       "Memory Storage Capacity                 object\n",
       "Phone Talk Time                         object\n",
       "Item part number                        object\n",
       "Phone Standby Time (with data)          object\n",
       "Colours displayed                       object\n",
       "Package Dimensions                      object\n",
       "GPU                                     object\n",
       "Wireless network technology             object\n",
       "Rear Camera Resolution                  object\n",
       "Optical Sensor Resolution               object\n",
       "Battery Power                          float64\n",
       "Imported By                             object\n",
       "Connectivity Technology                 object\n",
       "dtype: object"
      ]
     },
     "execution_count": 98,
     "metadata": {},
     "output_type": "execute_result"
    }
   ],
   "source": [
    "data.dtypes"
   ]
  },
  {
   "cell_type": "code",
   "execution_count": null,
   "metadata": {},
   "outputs": [
    {
     "data": {
      "text/plain": [
       "Index(['mrp', 'Brand', 'Model Name', 'Network Service Provider', 'OS',\n",
       "       'Cellular Technology', 'RAM', 'Product Dimensions', 'Batteries',\n",
       "       'Item model number', 'Wireless communication technologies',\n",
       "       'Connectivity technologies', 'GPS', 'Special features',\n",
       "       'Display technology', 'Other display features', 'Resolution',\n",
       "       'Other camera features', 'Audio Jack', 'Form factor', 'Colour',\n",
       "       'Battery Power Rating', 'Whats in the box', 'Manufacturer',\n",
       "       'Country of Origin', 'Item Weight', 'Screen Size', 'Screen Type',\n",
       "       'Battery Power (In mAH)', 'Inbuilt Storage (in GB)', 'Processor Brand',\n",
       "       'Operating System', 'Warranty Details', 'Camera Description',\n",
       "       'Battery type', 'Processor Speed', 'Item Dimensions',\n",
       "       'What's in the box', 'no of 5 star', 'no of 4 star', 'no of 3 star',\n",
       "       'no of 2 star', 'no of 1 star', 'Device interface - primary',\n",
       "       'Memory Storage Capacity', 'Phone Talk Time', 'Item part number',\n",
       "       'Phone Standby Time (with data)', 'Colours displayed',\n",
       "       'Package Dimensions', 'GPU', 'Wireless network technology',\n",
       "       'Rear Camera Resolution', 'Optical Sensor Resolution', 'Battery Power',\n",
       "       'Imported By', 'Connectivity Technology'],\n",
       "      dtype='object')"
      ]
     },
     "execution_count": 99,
     "metadata": {},
     "output_type": "execute_result"
    }
   ],
   "source": [
    "data.columns"
   ]
  },
  {
   "cell_type": "code",
   "execution_count": null,
   "metadata": {},
   "outputs": [
    {
     "data": {
      "text/plain": [
       "['Rear Camera Resolution',\n",
       " 'Battery Power',\n",
       " 'Optical Sensor Resolution',\n",
       " 'Wireless network technology',\n",
       " 'Connectivity Technology',\n",
       " 'Imported By',\n",
       " 'GPU',\n",
       " 'Item part number',\n",
       " 'Colours displayed',\n",
       " 'Package Dimensions',\n",
       " 'Phone Talk Time',\n",
       " 'Phone Standby Time (with data)',\n",
       " 'Memory Storage Capacity',\n",
       " 'Display technology',\n",
       " 'Resolution',\n",
       " 'Audio Jack',\n",
       " 'Processor Brand',\n",
       " 'Device interface - primary',\n",
       " 'Processor Speed']"
      ]
     },
     "execution_count": 100,
     "metadata": {},
     "output_type": "execute_result"
    }
   ],
   "source": [
    "na_counts = data.isna().sum().sort_values(ascending=False)\n",
    "# Filter columns with NA > 100\n",
    "filtered_columns = na_counts[na_counts > 100].index.tolist()\n",
    "filtered_columns # to remove"
   ]
  },
  {
   "cell_type": "code",
   "execution_count": null,
   "metadata": {},
   "outputs": [],
   "source": [
    "data.drop(columns=filtered_columns, inplace=True)"
   ]
  },
  {
   "cell_type": "code",
   "execution_count": null,
   "metadata": {},
   "outputs": [
    {
     "data": {
      "text/plain": [
       "38"
      ]
     },
     "execution_count": 102,
     "metadata": {},
     "output_type": "execute_result"
    }
   ],
   "source": [
    "len(data.columns)"
   ]
  },
  {
   "cell_type": "code",
   "execution_count": null,
   "metadata": {},
   "outputs": [],
   "source": [
    "# data.to_csv(\"../../data/processed.csv\")\n",
    "# data.to_json(\"../../data/processed.json\", orient='records')"
   ]
  },
  {
   "cell_type": "code",
   "execution_count": null,
   "metadata": {},
   "outputs": [
    {
     "data": {
      "text/plain": [
       "Item model number                      87\n",
       "Batteries                              78\n",
       "Network Service Provider               49\n",
       "Item Dimensions                        48\n",
       "Product Dimensions                     48\n",
       "GPS                                    45\n",
       "Battery type                           35\n",
       "Model Name                             19\n",
       "Wireless communication technologies    14\n",
       "Screen Size                            13\n",
       "Form factor                            11\n",
       "Warranty Details                       11\n",
       "Country of Origin                       9\n",
       "Cellular Technology                     7\n",
       "Special features                        7\n",
       "Screen Type                             6\n",
       "Whats in the box                        5\n",
       "Connectivity technologies               5\n",
       "What's in the box                       5\n",
       "Other camera features                   3\n",
       "Camera Description                      3\n",
       "Colour                                  2\n",
       "Battery Power Rating                    2\n",
       "Battery Power (In mAH)                  2\n",
       "Operating System                        2\n",
       "RAM                                     2\n",
       "OS                                      2\n",
       "Manufacturer                            1\n",
       "Inbuilt Storage (in GB)                 1\n",
       "no of 3 star                            0\n",
       "no of 5 star                            0\n",
       "no of 4 star                            0\n",
       "no of 2 star                            0\n",
       "mrp                                     0\n",
       "Item Weight                             0\n",
       "Brand                                   0\n",
       "Other display features                  0\n",
       "no of 1 star                            0\n",
       "dtype: int64"
      ]
     },
     "execution_count": 95,
     "metadata": {},
     "output_type": "execute_result"
    }
   ],
   "source": [
    "data.isna().sum().sort_values(ascending=False)"
   ]
  },
  {
   "cell_type": "code",
   "execution_count": null,
   "metadata": {},
   "outputs": [],
   "source": [
    "def missing_values_intersection(columns):\n",
    "    # Create boolean masks for each column\n",
    "    isna_masks = [data[col].isna() for col in columns]\n",
    "\n",
    "    # Count intersecting and separate missing values\n",
    "    intersect_count = sum(all(isna_masks) for isna_masks in zip(*isna_masks))\n",
    "    separate_count = sum(any(isna_masks) for isna_masks in zip(*isna_masks)) - intersect_count\n",
    "\n",
    "    return intersect_count, separate_count"
   ]
  },
  {
   "cell_type": "code",
   "execution_count": null,
   "metadata": {},
   "outputs": [
    {
     "data": {
      "text/plain": [
       "(1, 22)"
      ]
     },
     "execution_count": 11,
     "metadata": {},
     "output_type": "execute_result"
    }
   ],
   "source": [
    "missing_values_intersection([\"Form factor\", \"Screen Size\"])"
   ]
  },
  {
   "cell_type": "code",
   "execution_count": null,
   "metadata": {},
   "outputs": [
    {
     "data": {
      "text/plain": [
       "(48, 0)"
      ]
     },
     "execution_count": 12,
     "metadata": {},
     "output_type": "execute_result"
    }
   ],
   "source": [
    "missing_values_intersection([\"Product Dimensions\", \"Item Dimensions\"])"
   ]
  },
  {
   "cell_type": "code",
   "execution_count": null,
   "metadata": {},
   "outputs": [
    {
     "data": {
      "text/plain": [
       "GPS\n",
       "GLONASS                                                                                 160\n",
       "True                                                                                    135\n",
       "GPS                                                                                      10\n",
       "AGPS                                                                                      5\n",
       "GPS/AGPS,Glonass, Beidou, Galileo                                                         4\n",
       "GPS,Glonass,Beidou,Galileo                                                                4\n",
       "GPS (L1 + L5), GLO (G1), BDS (B1i + B1c + B2a), GAL (E1 + E5a), QZSS (L1 + L5), AGPS      3\n",
       "GPS/GNSS/BEIDOU/Galileo                                                                   1\n",
       "GPS,Glonass,Beidou,Galileo,QZSS                                                           1\n",
       "GPS/GNSS/BEIDOU/Galileo/QZSS                                                              1\n",
       "Supported                                                                                 1\n",
       "GPS/AGPS, GLONASS,Galelio, BeiDou, QZSS                                                   1\n",
       "Name: count, dtype: int64"
      ]
     },
     "execution_count": 13,
     "metadata": {},
     "output_type": "execute_result"
    }
   ],
   "source": [
    "data[\"GPS\"].value_counts()"
   ]
  },
  {
   "cell_type": "code",
   "execution_count": null,
   "metadata": {},
   "outputs": [],
   "source": [
    "to_remove = [\n",
    "    \"Batteries\",\n",
    "    \"Item model number\",\n",
    "    \"Product Dimensions\", # item dim better\n",
    "    \"Operating System\", # OS better,\n",
    "    \"Battery Power Rating\", # in mAh better\n",
    "    \"Whats in the box\", # i will use the proper english,\n",
    "    \"Other camera features\", # i will use Camera Description\n",
    "    \"Country of Origin\",\n",
    "    \"Other display features\", # ITS ALL THE SAME\n",
    "    \"Model Name\",\n",
    "    \"Brand\"\n",
    "]"
   ]
  },
  {
   "cell_type": "code",
   "execution_count": null,
   "metadata": {},
   "outputs": [],
   "source": [
    "data.drop(columns=to_remove, inplace=True)"
   ]
  },
  {
   "cell_type": "code",
   "execution_count": null,
   "metadata": {},
   "outputs": [
    {
     "data": {
      "text/plain": [
       "Network Service Provider               49\n",
       "Item Dimensions                        48\n",
       "GPS                                    45\n",
       "Battery type                           35\n",
       "Wireless communication technologies    14\n",
       "Screen Size                            13\n",
       "Form factor                            11\n",
       "Warranty Details                       11\n",
       "Special features                        7\n",
       "Cellular Technology                     7\n",
       "Screen Type                             6\n",
       "Connectivity technologies               5\n",
       "What's in the box                       5\n",
       "Camera Description                      3\n",
       "Colour                                  2\n",
       "RAM                                     2\n",
       "Battery Power (In mAH)                  2\n",
       "OS                                      2\n",
       "Manufacturer                            1\n",
       "Inbuilt Storage (in GB)                 1\n",
       "no of 2 star                            0\n",
       "no of 4 star                            0\n",
       "no of 3 star                            0\n",
       "mrp                                     0\n",
       "no of 5 star                            0\n",
       "Item Weight                             0\n",
       "no of 1 star                            0\n",
       "dtype: int64"
      ]
     },
     "execution_count": 16,
     "metadata": {},
     "output_type": "execute_result"
    }
   ],
   "source": [
    "data.isna().sum().sort_values(ascending=False)"
   ]
  },
  {
   "cell_type": "code",
   "execution_count": null,
   "metadata": {},
   "outputs": [
    {
     "data": {
      "text/plain": [
       "['Network Service Provider',\n",
       " 'Item Dimensions',\n",
       " 'GPS',\n",
       " 'Battery type',\n",
       " 'Wireless communication technologies',\n",
       " 'Screen Size',\n",
       " 'Form factor',\n",
       " 'Warranty Details',\n",
       " 'Special features',\n",
       " 'Cellular Technology',\n",
       " 'Screen Type',\n",
       " 'Connectivity technologies',\n",
       " \"What's in the box\",\n",
       " 'Camera Description',\n",
       " 'Colour',\n",
       " 'RAM',\n",
       " 'Battery Power (In mAH)',\n",
       " 'OS',\n",
       " 'Manufacturer',\n",
       " 'Inbuilt Storage (in GB)']"
      ]
     },
     "execution_count": 17,
     "metadata": {},
     "output_type": "execute_result"
    }
   ],
   "source": [
    "all_null = data.isna().sum().sort_values(ascending=False)\n",
    "all_null = all_null[all_null > 0].index.tolist()\n",
    "all_null"
   ]
  },
  {
   "cell_type": "code",
   "execution_count": null,
   "metadata": {},
   "outputs": [],
   "source": [
    "data[data.isnull().any(axis=1)].to_csv(\"temp.csv\")"
   ]
  },
  {
   "cell_type": "code",
   "execution_count": null,
   "metadata": {},
   "outputs": [],
   "source": [
    "# join  and Connectivity technologies"
   ]
  },
  {
   "cell_type": "code",
   "execution_count": null,
   "metadata": {},
   "outputs": [],
   "source": [
    "def convert_string_to_list(string):\n",
    "    if pd.isnull(string):\n",
    "        return list()\n",
    "    else:\n",
    "        string = string.replace(';', ' ').replace(',', ' ')\n",
    "        string = string.lower()\n",
    "        lst = string.split()\n",
    "        return lst\n",
    "\n",
    "# Convert the columns to lists\n",
    "for column in [\"Wireless communication technologies\", \"Connectivity technologies\"]:\n",
    "    data[column] = data[column].apply(convert_string_to_list)"
   ]
  },
  {
   "cell_type": "code",
   "execution_count": null,
   "metadata": {},
   "outputs": [],
   "source": [
    "data[data.isnull().any(axis=1)].to_csv(\"temp.csv\")"
   ]
  },
  {
   "cell_type": "code",
   "execution_count": null,
   "metadata": {},
   "outputs": [],
   "source": [
    "column1, column2 = \"Wireless communication technologies\", \"Connectivity technologies\"\n",
    "\n",
    "def combine_lists(row):\n",
    "    # Combine the two lists and remove duplicates\n",
    "    combined_list = list(set(row[column1] + row[column2]))\n",
    "    return combined_list\n",
    "\n",
    "# Create a new column with the combined lists\n",
    "data['connectivity_tech'] = data.apply(combine_lists, axis=1)"
   ]
  },
  {
   "cell_type": "code",
   "execution_count": null,
   "metadata": {},
   "outputs": [],
   "source": [
    "data[data.isnull().any(axis=1)].to_csv(\"temp.csv\")"
   ]
  },
  {
   "cell_type": "code",
   "execution_count": null,
   "metadata": {},
   "outputs": [],
   "source": [
    "data.drop(columns=[column1, column2], inplace=True)"
   ]
  },
  {
   "cell_type": "code",
   "execution_count": null,
   "metadata": {},
   "outputs": [],
   "source": [
    "data[\"Network Service Provider\"] = data[\"Network Service Provider\"].str.replace(\"Unlocked for All Carriers\", \"ALL\")\n",
    "data[\"Network Service Provider\"] = data[\"Network Service Provider\"].str.replace(\"Unlocked\", \"ALL\")\n",
    "data[\"Network Service Provider\"] = data[\"Network Service Provider\"].fillna(\"ALL\")"
   ]
  },
  {
   "cell_type": "code",
   "execution_count": null,
   "metadata": {},
   "outputs": [
    {
     "data": {
      "text/plain": [
       "array(['ALL', 'Republic Wireless', 'Total Wireless',\n",
       "       'VoiceStream Wireless Provider Type', '3', 'Vodafone', 'AT&T',\n",
       "       'E-Plus'], dtype=object)"
      ]
     },
     "execution_count": 26,
     "metadata": {},
     "output_type": "execute_result"
    }
   ],
   "source": [
    "data[\"Network Service Provider\"].unique()"
   ]
  },
  {
   "cell_type": "code",
   "execution_count": null,
   "metadata": {},
   "outputs": [
    {
     "data": {
      "text/plain": [
       "Item Dimensions             48\n",
       "GPS                         45\n",
       "Battery type                35\n",
       "Screen Size                 13\n",
       "Warranty Details            11\n",
       "Form factor                 11\n",
       "Cellular Technology          7\n",
       "Special features             7\n",
       "Screen Type                  6\n",
       "What's in the box            5\n",
       "Camera Description           3\n",
       "Battery Power (In mAH)       2\n",
       "RAM                          2\n",
       "OS                           2\n",
       "Colour                       2\n",
       "Manufacturer                 1\n",
       "Inbuilt Storage (in GB)      1\n",
       "no of 1 star                 0\n",
       "no of 2 star                 0\n",
       "no of 4 star                 0\n",
       "no of 3 star                 0\n",
       "mrp                          0\n",
       "no of 5 star                 0\n",
       "Network Service Provider     0\n",
       "Item Weight                  0\n",
       "connectivity_tech            0\n",
       "dtype: int64"
      ]
     },
     "execution_count": 27,
     "metadata": {},
     "output_type": "execute_result"
    }
   ],
   "source": [
    "data.isna().sum().sort_values(ascending=False)"
   ]
  },
  {
   "cell_type": "code",
   "execution_count": null,
   "metadata": {},
   "outputs": [
    {
     "data": {
      "text/plain": [
       "array(['0.9 x 16.5 x 7.7 cm', '16.6 x 7.6 x 0.8 cm',\n",
       "       '16.4 x 7.6 x 0.8 cm', '16.4 x 7.5 x 0.8 cm', '16 x 7.3 x 0.8 cm',\n",
       "       '16.6 x 0.8 x 7.6 cm', '16.4 x 0.9 x 7.6 cm',\n",
       "       '18.4 x 9.8 x 6.5 cm', '0.9 x 7.7 x 16.7 cm',\n",
       "       '16.5 x 0.9 x 7.7 cm', '14.8 x 7.2 x 0.9 cm', nan,\n",
       "       '15 x 10 x 5 cm', '14.7 x 7.3 x 1 cm', '16.5 x 7.6 x 0.9 cm',\n",
       "       '16.4 x 7.6 x 0.9 cm', '9.00 cm x 77.00 cm x 1.65 metres',\n",
       "       '16.1 x 7.4 x 0.9 cm', '0.84 x 7.55 x 16.44 cm',\n",
       "       '0.84 x 7.62 x 16.84 cm', '17.1 x 7.8 x 0.9 cm',\n",
       "       '16.9 x 7.7 x 0.9 cm', '16.9 x 7.6 x 0.9 cm',\n",
       "       '0.9 x 7.6 x 16.4 cm', '7.6 x 0.8 x 16.6 cm',\n",
       "       '7.6 x 0.9 x 16.4 cm', '7.3 x 0.8 x 15.9 cm',\n",
       "       '0.84 x 7.45 x 15.98 cm', '16 x 0.8 x 7.5 cm',\n",
       "       '15.2 x 0.8 x 6.9 cm', '16.5 x 0.8 x 7.7 cm',\n",
       "       '16.48 x 7.22 x 0.81 cm', '7.6 x 0.8 x 16.1 cm',\n",
       "       '15.5 x 7.45 x 15.57 cm', '18 x 7 x 7 cm', '0.8 x 7.8 x 16.1 cm',\n",
       "       '15.8 x 0.8 x 7.4 cm', '15 x 0.8 x 7 cm', '16.2 x 0.8 x 7.7 cm',\n",
       "       '16.7 x 0.9 x 7.6 cm', '16.2 x 0.8 x 7.5 cm',\n",
       "       '16.8 x 0.8 x 7.7 cm', '15.1 x 0.8 x 7.2 cm',\n",
       "       '15.8 x 0.9 x 7.4 cm', '15 x 7 x 7 cm', '0.8 x 7.7 x 15.8 cm',\n",
       "       '0.8 x 7.6 x 16.4 cm', '0.8 x 7.6 x 15.7 cm',\n",
       "       '0.8 x 7.1 x 14.6 cm', '0.9 x 7.5 x 16.5 cm',\n",
       "       '7.5 x 0.9 x 16.3 cm', '15.9 x 14 x 0.7 cm', '16.5 x 7.3 x 0.9 cm',\n",
       "       '17.5 x 9.1 x 6.9 cm', '0.9 x 7.8 x 16.8 cm',\n",
       "       '0.8 x 7.7 x 16.5 cm', '16 x 7.4 x 0.8 cm', '0.8 x 7.5 x 16 cm',\n",
       "       '0.9 x 7.7 x 16.5 cm', '17.78 x 12.7 x 10.16 cm',\n",
       "       '7.6 x 0.8 x 16.3 cm', '7.4 x 0.9 x 16.3 cm',\n",
       "       '16.6 x 7.6 x 0.9 cm', '16.5 x 7.6 x 1 cm', '8 x 17 x 5 cm',\n",
       "       '17 x 8 x 5 cm', '16.5 x 7.6 x 5.2 cm', '12.7 x 10.16 x 38.1 cm',\n",
       "       '16.2 x 1 x 7.6 cm', '16.5 x 7.7 x 0.9 cm', '16.4 x 0.9 x 7.4 cm',\n",
       "       '16.2 x 7.5 x 0.9 cm', '16 x 0.8 x 7.4 cm', '16.1 x 0.8 x 7.4 cm',\n",
       "       '15.9 x 0.7 x 7.4 cm', '16 x 0.9 x 7.5 cm', '16.1 x 0.7 x 7.4 cm',\n",
       "       '12 x 5 x 6 cm', '15.9 x 0.9 x 7.5 cm', '16.2 x 0.9 x 7.6 cm',\n",
       "       '15.7 x 0.8 x 1.5 cm', '15.9 x 0.9 x 7.7 cm',\n",
       "       '15.5 x 0.8 x 7.5 cm', '16.1 x 7.4 x 0.7 cm',\n",
       "       '15.4 x 0.8 x 7.8 cm', '15.8 x 7.5 x 0.8 cm', '12 x 12 x 12 cm',\n",
       "       '16 x 0.7 x 7.5 cm', '16 x 7.4 x 0.7 cm', '15.9 x 7.4 x 0.8 cm',\n",
       "       '15.7 x 7.2 x 0.7 cm', '16 x 7.5 x 0.7 cm', '16.2 x 7.6 x 0.9 cm',\n",
       "       '16.3 x 7.6 x 0.8 cm', '16.5 x 7.7 x 0.8 cm',\n",
       "       '16.4 x 0.8 x 7.5 cm', '16.37 x 0.78 x 7.68 cm',\n",
       "       '16.6 x 0.9 x 7.7 cm', '7.64 x 0.78 x 16.37 cm',\n",
       "       '19.56 x 2.29 x 41.66 cm', '16.37 x 0.78 x 7.64 cm',\n",
       "       '16.1 x 0.7 x 7.6 cm', '16.5 x 7.6 x 0.7 cm',\n",
       "       '7.6 x 0.7 x 16.1 cm', '9 x 8 x 7 cm', '0.9 x 7.6 x 16.3 cm',\n",
       "       '0.8 x 7.5 x 16.3 cm', '16.3 x 7.4 x 0.8 cm',\n",
       "       '16.33 x 7.56 x 0.82 cm', '8 x 7 x 6 cm', '16.3 x 7.5 x 0.8 cm',\n",
       "       '15.9 x 7.5 x 0.9 cm', '5 x 10 x 15 cm', '0.9 x 7.4 x 15.9 cm',\n",
       "       '20.5 x 5.5 x 1.1 cm', '16.41 x 7.56 x 0.85 cm',\n",
       "       '16.3 x 7.6 x 0.9 cm', '0.85 x 7.49 x 16.39 cm',\n",
       "       '16.5 x 7.5 x 0.9 cm', '17.8 x 7.9 x 1 cm', '16.9 x 7.8 x 0.9 cm',\n",
       "       '16.5 x 7.5 x 0.7 cm', '16.5 x 7.5 x 0.8 cm',\n",
       "       '16.54 x 7.59 x 0.92 cm', '17 x 0.9 x 7.7 cm',\n",
       "       '0.9 x 8.4 x 16.4 cm'], dtype=object)"
      ]
     },
     "execution_count": 28,
     "metadata": {},
     "output_type": "execute_result"
    }
   ],
   "source": [
    "data[\"Item Dimensions\"].unique()"
   ]
  },
  {
   "cell_type": "code",
   "execution_count": null,
   "metadata": {},
   "outputs": [],
   "source": [
    "data[data.isnull().any(axis=1)].to_csv(\"temp.csv\")"
   ]
  },
  {
   "cell_type": "code",
   "execution_count": null,
   "metadata": {},
   "outputs": [
    {
     "data": {
      "text/plain": [
       "array(['5G', '4G', 'LTE', '2G,3 G,4G,LTE,VOLTE', '2G',\n",
       "       '4G VOLTE, 4G, 3G, 2G', '2G, 3G, 4G', '4G,3G,2G', '5G, 4G LTE',\n",
       "       '5G, 4G', '5G, GSM', '(4G+5G)', nan,\n",
       "       '2G GSM,3G WCDMA,4G LTE FDD,4G LTE TDD', 'AMPS',\n",
       "       'Supports 5G* / 4G / 3G/ 2G *Supported 5G Bands: NR (SA & NSA): n1/n3/n5/n7/n8/n20/n28/n38/n40/n41/n66/n71/n75/n77/n78/n79  See more',\n",
       "       '2G,3 G,4G', '2G/3G/4G/LTE/VOLTE'], dtype=object)"
      ]
     },
     "execution_count": 30,
     "metadata": {},
     "output_type": "execute_result"
    }
   ],
   "source": [
    "data[\"Cellular Technology\"].unique()"
   ]
  },
  {
   "cell_type": "code",
   "execution_count": null,
   "metadata": {},
   "outputs": [],
   "source": [
    "# data.reset_index().to_json(\"temp.json\", orient=\"records\")"
   ]
  },
  {
   "cell_type": "code",
   "execution_count": null,
   "metadata": {},
   "outputs": [
    {
     "data": {
      "text/plain": [
       "323"
      ]
     },
     "execution_count": 32,
     "metadata": {},
     "output_type": "execute_result"
    }
   ],
   "source": [
    "len(list(data.dropna(subset=[\"Item Dimensions\"]).iterrows()))"
   ]
  },
  {
   "cell_type": "code",
   "execution_count": null,
   "metadata": {},
   "outputs": [],
   "source": [
    "data.dropna(subset=[\"Item Dimensions\"], inplace=True)"
   ]
  },
  {
   "cell_type": "code",
   "execution_count": null,
   "metadata": {},
   "outputs": [
    {
     "data": {
      "text/plain": [
       "GPS                         34\n",
       "Battery type                21\n",
       "Form factor                  9\n",
       "Warranty Details             6\n",
       "Cellular Technology          6\n",
       "Screen Size                  6\n",
       "Screen Type                  4\n",
       "Special features             4\n",
       "What's in the box            3\n",
       "Battery Power (In mAH)       2\n",
       "Colour                       1\n",
       "OS                           1\n",
       "Camera Description           1\n",
       "no of 3 star                 0\n",
       "no of 1 star                 0\n",
       "no of 4 star                 0\n",
       "no of 5 star                 0\n",
       "no of 2 star                 0\n",
       "mrp                          0\n",
       "Item Dimensions              0\n",
       "Inbuilt Storage (in GB)      0\n",
       "Network Service Provider     0\n",
       "Item Weight                  0\n",
       "Manufacturer                 0\n",
       "RAM                          0\n",
       "connectivity_tech            0\n",
       "dtype: int64"
      ]
     },
     "execution_count": 34,
     "metadata": {},
     "output_type": "execute_result"
    }
   ],
   "source": [
    "data.isna().sum().sort_values(ascending=False)"
   ]
  },
  {
   "cell_type": "code",
   "execution_count": null,
   "metadata": {},
   "outputs": [],
   "source": [
    "to_remove = [\n",
    "    \"Colour\",\n",
    "]\n",
    "\n",
    "data.drop(columns=to_remove, inplace=True)"
   ]
  },
  {
   "cell_type": "code",
   "execution_count": null,
   "metadata": {},
   "outputs": [
    {
     "data": {
      "text/plain": [
       "66"
      ]
     },
     "execution_count": 36,
     "metadata": {},
     "output_type": "execute_result"
    }
   ],
   "source": [
    "len(list(data[data.isnull().any(axis=1)].iterrows()))"
   ]
  },
  {
   "cell_type": "code",
   "execution_count": null,
   "metadata": {},
   "outputs": [
    {
     "data": {
      "text/plain": [
       "GPS                         34\n",
       "Battery type                21\n",
       "Form factor                  9\n",
       "Screen Size                  6\n",
       "Warranty Details             6\n",
       "Cellular Technology          6\n",
       "Screen Type                  4\n",
       "Special features             4\n",
       "What's in the box            3\n",
       "Battery Power (In mAH)       2\n",
       "OS                           1\n",
       "Camera Description           1\n",
       "no of 3 star                 0\n",
       "no of 1 star                 0\n",
       "no of 4 star                 0\n",
       "no of 5 star                 0\n",
       "no of 2 star                 0\n",
       "mrp                          0\n",
       "Item Dimensions              0\n",
       "Inbuilt Storage (in GB)      0\n",
       "Network Service Provider     0\n",
       "Item Weight                  0\n",
       "Manufacturer                 0\n",
       "RAM                          0\n",
       "connectivity_tech            0\n",
       "dtype: int64"
      ]
     },
     "execution_count": 37,
     "metadata": {},
     "output_type": "execute_result"
    }
   ],
   "source": [
    "data.isna().sum().sort_values(ascending=False)"
   ]
  },
  {
   "cell_type": "code",
   "execution_count": null,
   "metadata": {},
   "outputs": [
    {
     "data": {
      "text/plain": [
       "25"
      ]
     },
     "execution_count": 38,
     "metadata": {},
     "output_type": "execute_result"
    }
   ],
   "source": [
    "len(data.columns)"
   ]
  },
  {
   "cell_type": "code",
   "execution_count": null,
   "metadata": {},
   "outputs": [
    {
     "data": {
      "text/plain": [
       "(1, 8)"
      ]
     },
     "execution_count": 39,
     "metadata": {},
     "output_type": "execute_result"
    }
   ],
   "source": [
    "missing_values_intersection([\"Warranty Details\", \"Camera Description\", \"What's in the box\", \"Special features\"])"
   ]
  },
  {
   "cell_type": "code",
   "execution_count": null,
   "metadata": {},
   "outputs": [],
   "source": [
    "data[data.isnull().any(axis=1)].to_csv(\"temp.csv\")"
   ]
  },
  {
   "cell_type": "code",
   "execution_count": null,
   "metadata": {},
   "outputs": [
    {
     "data": {
      "text/plain": [
       "Battery type\n",
       "Lithium Ion          164\n",
       "Lithium Polymer      133\n",
       "Polymer                2\n",
       "Lithium-Phosphate      1\n",
       "Lithium                1\n",
       "Lithium-Cobalt         1\n",
       "Name: count, dtype: int64"
      ]
     },
     "execution_count": 41,
     "metadata": {},
     "output_type": "execute_result"
    }
   ],
   "source": [
    "data[\"Battery type\"].value_counts()"
   ]
  },
  {
   "cell_type": "code",
   "execution_count": null,
   "metadata": {},
   "outputs": [
    {
     "data": {
      "text/plain": [
       "GPS\n",
       "True                                                                                    135\n",
       "GLONASS                                                                                 129\n",
       "GPS                                                                                       6\n",
       "GPS/AGPS,Glonass, Beidou, Galileo                                                         4\n",
       "GPS,Glonass,Beidou,Galileo                                                                4\n",
       "AGPS                                                                                      3\n",
       "GPS (L1 + L5), GLO (G1), BDS (B1i + B1c + B2a), GAL (E1 + E5a), QZSS (L1 + L5), AGPS      3\n",
       "GPS/GNSS/BEIDOU/Galileo                                                                   1\n",
       "GPS,Glonass,Beidou,Galileo,QZSS                                                           1\n",
       "GPS/GNSS/BEIDOU/Galileo/QZSS                                                              1\n",
       "Supported                                                                                 1\n",
       "GPS/AGPS, GLONASS,Galelio, BeiDou, QZSS                                                   1\n",
       "Name: count, dtype: int64"
      ]
     },
     "execution_count": 42,
     "metadata": {},
     "output_type": "execute_result"
    }
   ],
   "source": [
    "data[\"GPS\"].value_counts()"
   ]
  },
  {
   "cell_type": "code",
   "execution_count": null,
   "metadata": {},
   "outputs": [],
   "source": [
    "mapping = {\n",
    "    'GLONASS': 'GLONASS',\n",
    "    'True': 'GPS',\n",
    "    'GPS,Glonass,Beidou,Galileo': 'GPS/GLONASS/Beidou/Galileo',\n",
    "    'GPS': 'GPS',\n",
    "    'GPS/AGPS,Glonass, Beidou, Galileo': 'GPS/GLONASS/Beidou/Galileo',\n",
    "    'GPS (L1 + L5), GLO (G1), BDS (B1i + B1c + B2a), GAL (E1 + E5a), QZSS (L1 + L5), AGPS': 'GPS/GLONASS/Beidou/Galileo/QZSS',\n",
    "    'GPS,Glonass,Beidou,Galileo,QZSS': 'GPS/GLONASS/Beidou/Galileo/QZSS',\n",
    "    'GPS/GNSS/Galileo/BeiDou': 'GPS/GNSS/Galileo/BeiDou',\n",
    "    'AGPS': 'AGPS',\n",
    "    'Supported': 'Supported',\n",
    "    'GPS/AGPS, GLONASS,Galelio, BeiDou, QZSS': 'GPS/AGPS/GLONASS/Galileo/BeiDou/QZSS',\n",
    "    'GPS/GNSS/BEIDOU/Galileo': 'GPS/GNSS/Beidou/Galileo',\n",
    "    'GPS/GNSS/BEIDOU/Galileo/QZSS': 'GPS/GNSS/Beidou/Galileo/QZSS'\n",
    "}\n",
    "\n",
    "data['GPS'] = data['GPS'].replace(mapping)"
   ]
  },
  {
   "cell_type": "code",
   "execution_count": null,
   "metadata": {},
   "outputs": [],
   "source": [
    "# data['GPS'] = data['GPS'].str.split('/')"
   ]
  },
  {
   "cell_type": "code",
   "execution_count": null,
   "metadata": {},
   "outputs": [],
   "source": [
    "def split_cellular_tech(row):\n",
    "    if pd.isnull(row[\"GPS\"]):\n",
    "        return list()\n",
    "    else:\n",
    "        lst = row[\"GPS\"].split(\"/\")\n",
    "        return lst\n",
    "\n",
    "data[\"GPS\"] = data.apply(split_cellular_tech, axis=1)"
   ]
  },
  {
   "cell_type": "code",
   "execution_count": null,
   "metadata": {},
   "outputs": [
    {
     "data": {
      "text/plain": [
       "GPS\n",
       "[GPS]                                          141\n",
       "[GLONASS]                                      129\n",
       "[]                                              34\n",
       "[GPS, GLONASS, Beidou, Galileo]                  8\n",
       "[GPS, GLONASS, Beidou, Galileo, QZSS]            4\n",
       "[AGPS]                                           3\n",
       "[GPS, GNSS, Beidou, Galileo]                     1\n",
       "[GPS, GNSS, Beidou, Galileo, QZSS]               1\n",
       "[Supported]                                      1\n",
       "[GPS, AGPS, GLONASS, Galileo, BeiDou, QZSS]      1\n",
       "Name: count, dtype: int64"
      ]
     },
     "execution_count": 46,
     "metadata": {},
     "output_type": "execute_result"
    }
   ],
   "source": [
    "data[\"GPS\"].value_counts()"
   ]
  },
  {
   "cell_type": "code",
   "execution_count": null,
   "metadata": {},
   "outputs": [
    {
     "data": {
      "text/plain": [
       "GPS          156\n",
       "GLONASS      142\n",
       "Galileo       15\n",
       "Beidou        14\n",
       "QZSS           6\n",
       "AGPS           4\n",
       "GNSS           2\n",
       "Supported      1\n",
       "BeiDou         1\n",
       "Name: count, dtype: int64"
      ]
     },
     "execution_count": 47,
     "metadata": {},
     "output_type": "execute_result"
    }
   ],
   "source": [
    "data['GPS'].apply(pd.Series).stack().value_counts()"
   ]
  },
  {
   "cell_type": "code",
   "execution_count": null,
   "metadata": {},
   "outputs": [],
   "source": [
    "data.drop(columns=[\"GPS\"], inplace=True)"
   ]
  },
  {
   "cell_type": "code",
   "execution_count": null,
   "metadata": {},
   "outputs": [
    {
     "data": {
      "text/plain": [
       "Index(['mrp', 'Network Service Provider', 'OS', 'Cellular Technology', 'RAM',\n",
       "       'Special features', 'Form factor', 'Manufacturer', 'Item Weight',\n",
       "       'Screen Size', 'Screen Type', 'Battery Power (In mAH)',\n",
       "       'Inbuilt Storage (in GB)', 'Warranty Details', 'Camera Description',\n",
       "       'Battery type', 'Item Dimensions', 'What's in the box', 'no of 5 star',\n",
       "       'no of 4 star', 'no of 3 star', 'no of 2 star', 'no of 1 star',\n",
       "       'connectivity_tech'],\n",
       "      dtype='object')"
      ]
     },
     "execution_count": 49,
     "metadata": {},
     "output_type": "execute_result"
    }
   ],
   "source": [
    "data.columns"
   ]
  },
  {
   "cell_type": "code",
   "execution_count": null,
   "metadata": {},
   "outputs": [
    {
     "data": {
      "text/plain": [
       "Battery type                21\n",
       "Form factor                  9\n",
       "Warranty Details             6\n",
       "Cellular Technology          6\n",
       "Screen Size                  6\n",
       "Special features             4\n",
       "Screen Type                  4\n",
       "What's in the box            3\n",
       "Battery Power (In mAH)       2\n",
       "OS                           1\n",
       "Camera Description           1\n",
       "mrp                          0\n",
       "no of 3 star                 0\n",
       "no of 4 star                 0\n",
       "no of 2 star                 0\n",
       "no of 1 star                 0\n",
       "no of 5 star                 0\n",
       "Inbuilt Storage (in GB)      0\n",
       "Item Dimensions              0\n",
       "Network Service Provider     0\n",
       "Item Weight                  0\n",
       "Manufacturer                 0\n",
       "RAM                          0\n",
       "connectivity_tech            0\n",
       "dtype: int64"
      ]
     },
     "execution_count": 50,
     "metadata": {},
     "output_type": "execute_result"
    }
   ],
   "source": [
    "data.isna().sum().sort_values(ascending=False)"
   ]
  },
  {
   "cell_type": "code",
   "execution_count": null,
   "metadata": {},
   "outputs": [],
   "source": [
    "data[data.isnull().any(axis=1)].to_csv(\"temp.csv\")"
   ]
  },
  {
   "cell_type": "code",
   "execution_count": null,
   "metadata": {},
   "outputs": [],
   "source": [
    "# data.drop('B09Y64H8VS', inplace=True)"
   ]
  },
  {
   "cell_type": "code",
   "execution_count": null,
   "metadata": {},
   "outputs": [
    {
     "data": {
      "text/plain": [
       "323"
      ]
     },
     "execution_count": 53,
     "metadata": {},
     "output_type": "execute_result"
    }
   ],
   "source": [
    "len(list(data.iterrows()))"
   ]
  },
  {
   "cell_type": "code",
   "execution_count": null,
   "metadata": {},
   "outputs": [],
   "source": [
    "mapping = {\n",
    "    'Samsung': 'Samsung',\n",
    "    'Redmi': 'Xiaomi',\n",
    "    'Xiaomi': 'Xiaomi',\n",
    "    'Xiaomi Technology India Private Limited': 'Xiaomi',\n",
    "    'Rising Stars Mobile India Private Limited': 'Xiaomi',\n",
    "    'OPPO Mobiles India Pvt Ltd': 'OPPO',\n",
    "    'Oppo Mobiles India Private Limited 5th Floor, Tower-B, Building No. 8, Haryana-122002, India': 'OPPO',\n",
    "    'Oppo Mobiles India Private Limited': 'OPPO',\n",
    "    'OPPO Mobiles India Private Limited': 'OPPO',\n",
    "    'Lava': 'Lava',\n",
    "    'LAVA': 'Lava',\n",
    "    'G mobiles': 'G-Mobile',\n",
    "    'G-MOBILE': 'G-Mobile',\n",
    "    'G Mobiles': 'G-Mobile',\n",
    "    'G-Mobile Devices Private Limited': 'G-Mobile',\n",
    "    'S MOBILE DEVICES PRIVATE LTD': 'G-Mobile',\n",
    "    '1 year manufacturer warranty for device and 6 months manufacturer warranty for in-box': 'Generic',\n",
    "    'Samsung India pvt Ltd': 'Samsung',\n",
    "    'Samsung India Electronics Pvt ltd': 'Samsung',\n",
    "    'Dixon Technologies (India) Ltd.,Plot No.6, Sector-90,Noida, Gautam Buddha Nagar, U.P. India-201305': 'Dixon Technologies',\n",
    "    'OnePlus': 'OnePlus',\n",
    "    'vivo Mobile India Pvt Ltd': 'Vivo',\n",
    "    'Vivo': 'Vivo',\n",
    "    'Vivo Mobile India Pvt Ltd': 'Vivo',\n",
    "    'vivo': 'Vivo',\n",
    "    'vivo Mobile India Private Limited': 'Vivo',\n",
    "    'For and on behalf of HMD Mobile India Private Limited': 'Nokia',\n",
    "    'Nokia': 'Nokia',\n",
    "    'Bhagwati Products Ltd': 'Micromax',\n",
    "    'MICROMAX': 'Micromax',\n",
    "    'Micromax': 'Micromax',\n",
    "    'Realme': 'Realme',\n",
    "    'iQOO': 'iQOO',\n",
    "    'Generic': 'generic'\n",
    "}\n",
    "\n",
    "data['Manufacturer'] = data['Manufacturer'].replace(mapping)"
   ]
  },
  {
   "cell_type": "code",
   "execution_count": null,
   "metadata": {},
   "outputs": [],
   "source": [
    "for index, row in data[data['Battery type'].isnull()].iterrows():\n",
    "    manufacturer = row['Manufacturer']\n",
    "    manufacturer_df = data[data['Manufacturer'] == manufacturer]\n",
    "\n",
    "    if len(manufacturer_df) <= 1:\n",
    "        continue\n",
    "\n",
    "    mode_result = manufacturer_df['Battery type'].mode()\n",
    "    if mode_result.empty:\n",
    "        continue\n",
    "\n",
    "    most_common_screen_type = mode_result.values[0]\n",
    "    data.at[index, 'Battery type'] = most_common_screen_type"
   ]
  },
  {
   "cell_type": "code",
   "execution_count": null,
   "metadata": {},
   "outputs": [
    {
     "data": {
      "text/plain": [
       "product_id\n",
       "B09TWDYSWQ    False\n",
       "B0BZ479WZD    False\n",
       "B0BMQSF1M4    False\n",
       "B07WJW747N    False\n",
       "B0BMQS9NVT    False\n",
       "B0B449C737    False\n",
       "B082F2T5PQ    False\n",
       "B0BQ3MMPX6    False\n",
       "B09LHX1YFX    False\n",
       "B09ZBF5Y4J    False\n",
       "B0BZCSNTT4    False\n",
       "B0C14MRRVN    False\n",
       "B0BBH4C5KT    False\n",
       "B0BBN3WF7V    False\n",
       "B09GFLXVH9    False\n",
       "B09FLYW7FG    False\n",
       "B0BZ8W9XQW    False\n",
       "B09S3W77PT    False\n",
       "B09S3X9VXX    False\n",
       "B0BJ2YKLHM    False\n",
       "B0BNBZRRJM    False\n",
       "B09JGCFLGY    False\n",
       "B0B1QH8RMV    False\n",
       "B09RV7G1XQ    False\n",
       "B09RV75JJM    False\n",
       "B08RWNQJVL    False\n",
       "B09RV5YBJW    False\n",
       "B08RDMBPDK    False\n",
       "B091J15RHZ    False\n",
       "B09RV799HF    False\n",
       "B0BW5QRCPG    False\n",
       "B0BXLPY5WW    False\n",
       "B0BTLJM8MS    False\n",
       "B0BRNM8ZPJ    False\n",
       "B0C14P16QR    False\n",
       "B0C14PV6WY    False\n",
       "B0BX9YM275    False\n",
       "B0C14LHTL7    False\n",
       "B0BWSFX131    False\n",
       "B09MWCWRMP    False\n",
       "B0BX9BDG4Q    False\n",
       "B0BZCSMP95    False\n",
       "B0BYN48MQW    False\n",
       "B0BMGB2TPR    False\n",
       "B0BY8JZ22K    False\n",
       "B09WQYFLRX    False\n",
       "B0B3CPQ5PF    False\n",
       "B08VB57558    False\n",
       "B094W56F6B    False\n",
       "B0893F6H3Q    False\n",
       "B08K3JC5JJ    False\n",
       "B08HJRR3KJ    False\n",
       "B08LRDK2XD     True\n",
       "B0BYNBXP3S    False\n",
       "B0C1Z8WTS6    False\n",
       "B0BXD5ZZQ5    False\n",
       "B0C1ZJG98Z    False\n",
       "B0844592J8    False\n",
       "B07KXBVLRW    False\n",
       "B07KXCH2FP    False\n",
       "B07PQ7DLVP    False\n",
       "B088TC8DK6    False\n",
       "B08HPQ61CQ    False\n",
       "B08FT6HFGL    False\n",
       "B07PP2JD3V    False\n",
       "B07CTH4JD4    False\n",
       "B086KCCPBR    False\n",
       "B0C24CWJ2K    False\n",
       "B0BXD5XVW1    False\n",
       "B0BXD3F6PC    False\n",
       "B0B4S3283N    False\n",
       "B08LRCMWLL    False\n",
       "B09SH88XFC    False\n",
       "B0BD4KGS23    False\n",
       "B09SH9D45B    False\n",
       "B0BT9DVZLZ    False\n",
       "B0BQJLCQD3    False\n",
       "B0BZCG8FNL    False\n",
       "B0BY8PYVS6    False\n",
       "B0BR88WGC5    False\n",
       "B0BTWHMD5W    False\n",
       "B0BZWCJDRB    False\n",
       "B09ZBFNJ2X    False\n",
       "B0BS162BQ3    False\n",
       "B0BPGSCPV5    False\n",
       "B0BXCZNH3B    False\n",
       "B0BS193NXQ    False\n",
       "B0BV6MSW3D    False\n",
       "B0B1ZNM6DV    False\n",
       "B0BBLMHJQ6    False\n",
       "B0BW2Z7XQR    False\n",
       "B09Z87HF76    False\n",
       "B0BW5J9VJY    False\n",
       "B0BS17KWKD    False\n",
       "B0BS16FS5K    False\n",
       "B0BGPBZ3CD    False\n",
       "B0BPGWQWX4    False\n",
       "B094P189P4    False\n",
       "B08LDXPTSP    False\n",
       "B09WRMNJ9G    False\n",
       "B0B5V2KDNZ    False\n",
       "B09V2LX1R4    False\n",
       "B0BSNQ2KXF    False\n",
       "B0BSTVXFWD    False\n",
       "B0BNC7C9W4    False\n",
       "B0BNC2CVB1    False\n",
       "B09S3Y2R72    False\n",
       "B09JG89LHZ    False\n",
       "B098NFTR9P    False\n",
       "B09JW2KPRM    False\n",
       "B0BMLWPL9V    False\n",
       "B0BKJRHV2M    False\n",
       "B0B79DFCMM    False\n",
       "B09MKPX6RQ    False\n",
       "B0B5KMLDKH    False\n",
       "B0BXLMC58R    False\n",
       "B0BWYJWRZW    False\n",
       "B0BXLN3XT4    False\n",
       "B09HGQPQSY    False\n",
       "B0BBMBL64D    False\n",
       "B0BG1PYJR4    False\n",
       "B09FKD67CS    False\n",
       "B09FKGDJNC    False\n",
       "B09RMQYHLH    False\n",
       "B0BBM7L888    False\n",
       "B0BG31V5K1    False\n",
       "B0BG2YRPBX    False\n",
       "B0BG329Z6S    False\n",
       "B096RTYQPW    False\n",
       "B09LM9PKBY    False\n",
       "B09LYDH2TQ    False\n",
       "B09FKDB27R    False\n",
       "B09J53KSN2    False\n",
       "B09K7ZY4MX    False\n",
       "B09LYDD6WF    False\n",
       "B0BMLWNR5B    False\n",
       "B0BBFJLP21    False\n",
       "B0BBH16VNN    False\n",
       "B0BZ466BWW    False\n",
       "B0BYN1GM6V    False\n",
       "B09CTY7TGF    False\n",
       "B09XB8GFBQ    False\n",
       "B0948NNY3W    False\n",
       "B0BQ3MT8P2    False\n",
       "B0B4DZ14K7    False\n",
       "B0B3SB491V    False\n",
       "B09QXJD193    False\n",
       "B09QXKKGWC    False\n",
       "B0BBFKGFQH    False\n",
       "B09QSBF2T7    False\n",
       "B09ZBFD6TJ    False\n",
       "B082FY6S2Y    False\n",
       "B0B7X8GPPH    False\n",
       "B07WGPL7LV    False\n",
       "B07WFPMD64    False\n",
       "B07WGPKRJ7    False\n",
       "B07WHSQDKX    False\n",
       "B08444SXZJ    False\n",
       "B07X9YM9JG    False\n",
       "B08445DF2X    False\n",
       "B08444WMHF    False\n",
       "B09JSY7H16    False\n",
       "B0BR9WYF2Z    False\n",
       "B07WGPKP8H    False\n",
       "B08BWX1X55    False\n",
       "B07S6BW832    False\n",
       "B07XG28J3M    False\n",
       "B081RW24Y6    False\n",
       "B07XBYN3ZB    False\n",
       "B07RKXBRM9    False\n",
       "B08LRDHLQM    False\n",
       "B086KCD5ZL    False\n",
       "B07S7DJYWC    False\n",
       "B07WFNZX33    False\n",
       "B07KXC1YHL    False\n",
       "B07JGLQJQ3    False\n",
       "B07KMHK4SB    False\n",
       "B07KXBVLQX    False\n",
       "B07KXCKQ11    False\n",
       "B07PTLCBP5    False\n",
       "B07KX1S5ZD    False\n",
       "B07WHQPCGY    False\n",
       "B07WGNVP3S    False\n",
       "B07KXCJYN5    False\n",
       "B07PTLD8SX    False\n",
       "B07CQ3WV3C    False\n",
       "B081RV8NB2    False\n",
       "B086KCDPNV    False\n",
       "B081RTYX3L    False\n",
       "B07S6BGL1K    False\n",
       "B09R7XJN5N    False\n",
       "B0BMGG6NKT    False\n",
       "B07WHQ4S68    False\n",
       "B08BCQSC1X    False\n",
       "B0BTLVSWX5    False\n",
       "B07KX1KY4N    False\n",
       "B01FC8O1AE    False\n",
       "B09DK5WZYM    False\n",
       "B0BJ652XH1    False\n",
       "B0B2124J56    False\n",
       "B0BJ6FKSLR    False\n",
       "B09DJY2GBW    False\n",
       "B089MS3GM7    False\n",
       "B08ZJSQGJZ    False\n",
       "B07WHS8VYX    False\n",
       "B09DKFQZW4    False\n",
       "B07WHRLCZ8    False\n",
       "B09DKBXCMZ    False\n",
       "B09V1QMFTL    False\n",
       "B09NKZWPN2    False\n",
       "B08697MJFD    False\n",
       "B07WHQRCZD    False\n",
       "B07WFPLSVX    False\n",
       "B07WHQLR7G    False\n",
       "B09XB9FLSH    False\n",
       "B085J1QWFV    False\n",
       "B089MS8NVX    False\n",
       "B094NMCGTG    False\n",
       "B099TDLJ6W    False\n",
       "B099TPW917    False\n",
       "B099TJZK33    False\n",
       "B099T4QNZN    False\n",
       "B09WV46P1W    False\n",
       "B09WV4M53C    False\n",
       "B099TD41YF    False\n",
       "B085J168WR    False\n",
       "B09G38DT4B    False\n",
       "B08V9VPQY9    False\n",
       "B09Q6FQWHP    False\n",
       "B0B4DTG52W    False\n",
       "B0BGZZ8KPB    False\n",
       "B0BPN3ZKNJ    False\n",
       "B0BNFM4R5S    False\n",
       "B09ZPPVFB9    False\n",
       "B0B7RZ29W8    False\n",
       "B0B7RYH79B    False\n",
       "B09YGGN7HC    False\n",
       "B09ZHS17ZW    False\n",
       "B0BNF1G4HL    False\n",
       "B09YGLS99V    False\n",
       "B0BGZYPJFT    False\n",
       "B0BGZZ8DK6    False\n",
       "B0BVMP4NGL    False\n",
       "B0BQJM2PXW    False\n",
       "B0BSNNWX8R    False\n",
       "B07WGPKNGT    False\n",
       "B07WDK2QZ7    False\n",
       "B0C3HXTK5F    False\n",
       "B09QGR3576    False\n",
       "B0BRD15R1K    False\n",
       "B082GNLQJB    False\n",
       "B09WQY65HN    False\n",
       "B0BD3V985M    False\n",
       "B0B4F2ZWL3    False\n",
       "B0B4F52B5X    False\n",
       "B0BY8L3RZ6    False\n",
       "B09TWHTBKQ    False\n",
       "B07WHSR1NR    False\n",
       "B0B9YK24TF    False\n",
       "B0B56YWX99    False\n",
       "B0BZCSSNV7    False\n",
       "B08VB2MRF8    False\n",
       "B0BYN4D512    False\n",
       "B09TWH8YHM    False\n",
       "B0BZ48H8JX    False\n",
       "B0BBMGZ5T4    False\n",
       "B0B56YRDDT    False\n",
       "B0BMGB3CH9    False\n",
       "B0BW5SL3V1    False\n",
       "B09FKDH6FS    False\n",
       "B0BY8MCQ9S    False\n",
       "B0BBH1X5K4    False\n",
       "B0B4F2XCK3    False\n",
       "B0BZ48VZMR    False\n",
       "B09GFM8CGS    False\n",
       "B0BQ3PYMCZ    False\n",
       "B0BBFJ9M3X    False\n",
       "B0BQ3PJJDQ    False\n",
       "B09QS8V5N8    False\n",
       "B09FKB3446    False\n",
       "B09G69ZB2B    False\n",
       "B09LQ8YS6T    False\n",
       "B09NMW9M44    False\n",
       "B07WDKLDRX    False\n",
       "B0B4DWPM27    False\n",
       "B0B4F38D6K    False\n",
       "B0BNKJ1B61    False\n",
       "B0B6JJN3Y7     True\n",
       "B0B5ZVMSM5     True\n",
       "B0B611GZ65    False\n",
       "B09JGKJZH2    False\n",
       "B0BM4JW283    False\n",
       "B0B5KNWCN1    False\n",
       "B0BYN5555J    False\n",
       "B09JGJ442F    False\n",
       "B0BM4N2HLS    False\n",
       "B0BKZKFSJ8    False\n",
       "B0986MQRFB    False\n",
       "B09FLZZMDT    False\n",
       "B09Y99VSSJ    False\n",
       "B0BGXG4B8S    False\n",
       "B0B612X35D    False\n",
       "B09JGHZ84C    False\n",
       "B09BW5N7SZ    False\n",
       "B0BYDJP16D    False\n",
       "B0BPS8H41T    False\n",
       "B09JGHCQ4C    False\n",
       "B08XQYFBM7    False\n",
       "B09Y64H8VS     True\n",
       "B0BBH5JV7N    False\n",
       "B09RN24CY6    False\n",
       "B0BBFKYH4N    False\n",
       "B0BZCV25LG    False\n",
       "B07WHSJXLF    False\n",
       "B0B6PSPJ8N    False\n",
       "B0BMGC6LHP    False\n",
       "B0BNBSHJ51    False\n",
       "B0BGPPDSWV    False\n",
       "B0BSNP46QP    False\n",
       "B09WRP2WXG    False\n",
       "B0784D862L    False\n",
       "B09Q6DPWHG    False\n",
       "B099TKJR2J    False\n",
       "Name: Screen Type, dtype: bool"
      ]
     },
     "execution_count": 56,
     "metadata": {},
     "output_type": "execute_result"
    }
   ],
   "source": [
    "data['Screen Type'].isnull()"
   ]
  },
  {
   "cell_type": "code",
   "execution_count": null,
   "metadata": {},
   "outputs": [],
   "source": [
    "for index, row in data[data['Screen Type'].isnull()].iterrows():\n",
    "    manufacturer_df = data[data['Manufacturer'] == row['Manufacturer']]\n",
    "\n",
    "    if len(manufacturer_df) <= 1:\n",
    "        continue\n",
    "\n",
    "    mode_result = manufacturer_df['Screen Type'].mode()\n",
    "    if mode_result.empty:\n",
    "        continue\n",
    "\n",
    "    most_common_screen_type = mode_result.values[0]\n",
    "    data.at[index, 'Screen Type'] = most_common_screen_type"
   ]
  },
  {
   "cell_type": "code",
   "execution_count": null,
   "metadata": {},
   "outputs": [],
   "source": [
    "data[data.isnull().any(axis=1)].to_csv(\"temp.csv\")"
   ]
  },
  {
   "cell_type": "code",
   "execution_count": null,
   "metadata": {},
   "outputs": [],
   "source": [
    "data.dropna(subset=[\"Battery type\"], inplace=True)\n",
    "data.drop(columns=[\"Manufacturer\"], inplace=True)"
   ]
  },
  {
   "cell_type": "code",
   "execution_count": null,
   "metadata": {},
   "outputs": [
    {
     "data": {
      "text/plain": [
       "23"
      ]
     },
     "execution_count": 60,
     "metadata": {},
     "output_type": "execute_result"
    }
   ],
   "source": [
    "len(data.columns)"
   ]
  },
  {
   "cell_type": "code",
   "execution_count": null,
   "metadata": {},
   "outputs": [
    {
     "data": {
      "text/plain": [
       "Warranty Details\n",
       "1 year manufacturer warranty for device and 6 months manufacturer warranty for in-box accessories including batteries from the date of purchase                                                                                                                                                     86\n",
       "6-month seller warranty                                                                                                                                                                                                                                                                             29\n",
       "1 year manufacturer warranty for device and 6 months manufacturer warranty for in-box accessories                                                                                                                                                                                                   20\n",
       "1 year manufacturer warranty for device and 6 months manufacturer warranty for in-box                                                                                                                                                                                                               19\n",
       "1 year warranty provided by the manufacturer from date of purchase                                                                                                                                                                                                                                  15\n",
       "1 Year Handset Warranty and 6 Months Warranty on Accessories                                                                                                                                                                                                                                        15\n",
       "1 Year manufacturer Warranty for handset & 6 months for accessories                                                                                                                                                                                                                                 14\n",
       "1 Year Manufacturer                                                                                                                                                                                                                                                                                 10\n",
       "12 month warranty                                                                                                                                                                                                                                                                                   10\n",
       "1 year manufacturer warranty for device and 6 months manufacturer warranty for in-box accessories including battery from the date of purchase                                                                                                                                                       10\n",
       "1 year manufacturer warranty for device and in-box accessories including batteries from the date of purchase                                                                                                                                                                                         8\n",
       "6-month supplier-backed warranty                                                                                                                                                                                                                                                                     7\n",
       "6 Months Seller Warranty                                                                                                                                                                                                                                                                             7\n",
       "1 year manufacturer warranty for device and battery and 6 months manufacturer warranty for in-box accessories from the date of purchase                                                                                                                                                              6\n",
       "6-Months Seller Warranty                                                                                                                                                                                                                                                                             5\n",
       "12 Months warranty                                                                                                                                                                                                                                                                                   5\n",
       "1 Year Warranty for Handset and 6 Months for Accessories                                                                                                                                                                                                                                             5\n",
       "1 year manufacturer warranty for device and 6 months manufacturer warranty for in-box accessories including batteries from the date of purchase, 1 year manufacturer warranty for device and 6 months manufacturer warranty for in-box accessories including batteries from the date of purchase     4\n",
       "1 Year manufacturer warranty for Mobile and 6 Months for Accessories                                                                                                                                                                                                                                 3\n",
       "Brand Warranty of 1 Year Available for Mobile and 6 Months for Accessories                                                                                                                                                                                                                           3\n",
       "1 year manufacturer warranty                                                                                                                                                                                                                                                                         3\n",
       "1 Year Manufacturer Warranty                                                                                                                                                                                                                                                                         3\n",
       "12 month warranty + 1 time screen replacement for 100 days                                                                                                                                                                                                                                           2\n",
       "1 year replacement guarantee for device and 6 months manufacturer warranty for in-box accessories including battery from the date of purchase                                                                                                                                                        2\n",
       "1 YEAR                                                                                                                                                                                                                                                                                               2\n",
       "1 Year Manufacturer warranty for Mobile and 6 Months for Accessories                                                                                                                                                                                                                                 2\n",
       "1 Year manufacturer                                                                                                                                                                                                                                                                                  2\n",
       "1 Year Warranty for Phone and 6 Months Warranty for In-Box Accessories                                                                                                                                                                                                                               2\n",
       "1 Year Manufacturer Warranty for Phone and 6 Months Warranty for In-Box Accessories                                                                                                                                                                                                                  2\n",
       "1 year manufacturer warranty on handset & 6 months on adapter and cable                                                                                                                                                                                                                              2\n",
       "12 months manufacturer warranty on handset & 6 months warranty on adapter and cable                                                                                                                                                                                                                  2\n",
       "2 year manufacturer warranty for device and 6 months manufacturer warranty for in-box accessories including battery from the date of purchase                                                                                                                                                        1\n",
       "1 year                                                                                                                                                                                                                                                                                               1\n",
       "1 Year Manufacturer Warranty for Phone and 6 Months Warranty for In the Box Accessories                                                                                                                                                                                                              1\n",
       "1 YEAR MENFACTURER WARRANTY                                                                                                                                                                                                                                                                          1\n",
       "1 Year manufacturer warranty for handset & 6 months for accessories                                                                                                                                                                                                                                  1\n",
       "1year manufacturer, One Time Screen Replacement within 100 Days                                                                                                                                                                                                                                      1\n",
       "1 year manufacturer                                                                                                                                                                                                                                                                                  1\n",
       "1 year manufacturer warranty for Phone and 6 months warranty for accessories in the box                                                                                                                                                                                                              1\n",
       "1 year warranty from manufacture                                                                                                                                                                                                                                                                     1\n",
       "1 Year on Handset and 6 Months on Accessories                                                                                                                                                                                                                                                        1\n",
       "Name: count, dtype: int64"
      ]
     },
     "execution_count": 61,
     "metadata": {},
     "output_type": "execute_result"
    }
   ],
   "source": [
    "data[\"Warranty Details\"].value_counts()"
   ]
  },
  {
   "cell_type": "code",
   "execution_count": null,
   "metadata": {},
   "outputs": [],
   "source": [
    "def extract_warranty(row):\n",
    "    warranty = row['Warranty Details']\n",
    "\n",
    "    if pd.isnull(warranty):\n",
    "        return [0, 0]\n",
    "    \n",
    "    # Extract the warranty duration for the phone\n",
    "    phone_duration = re.findall(r'(\\d+)\\s*year', warranty)\n",
    "    if phone_duration:\n",
    "        phone_duration = int(phone_duration[0])\n",
    "    else:\n",
    "        phone_duration = 0\n",
    "    \n",
    "    # Extract the warranty duration for the items along with the phone\n",
    "    items_duration = re.findall(r'(\\d+)\\s*months', warranty)\n",
    "    if items_duration:\n",
    "        items_duration = int(items_duration[0])\n",
    "    else:\n",
    "        items_duration = 0\n",
    "    \n",
    "    return [phone_duration, items_duration]\n",
    "\n",
    "# Apply the extract_warranty function to the \"Warranty Details\" column\n",
    "data[['Phone Warranty (months)', 'Items Warranty (months)']] = data.apply(extract_warranty, axis=1, result_type='expand')"
   ]
  },
  {
   "cell_type": "code",
   "execution_count": null,
   "metadata": {},
   "outputs": [],
   "source": [
    "data.drop(columns=['Warranty Details', 'Screen Size'], inplace=True)"
   ]
  },
  {
   "cell_type": "code",
   "execution_count": null,
   "metadata": {},
   "outputs": [
    {
     "data": {
      "text/plain": [
       "23"
      ]
     },
     "execution_count": 64,
     "metadata": {},
     "output_type": "execute_result"
    }
   ],
   "source": [
    "len(data.columns)"
   ]
  },
  {
   "cell_type": "code",
   "execution_count": null,
   "metadata": {},
   "outputs": [],
   "source": [
    "data[data.isnull().any(axis=1)].to_csv(\"temp.csv\")"
   ]
  },
  {
   "cell_type": "code",
   "execution_count": null,
   "metadata": {},
   "outputs": [
    {
     "data": {
      "text/plain": [
       "321"
      ]
     },
     "execution_count": 66,
     "metadata": {},
     "output_type": "execute_result"
    }
   ],
   "source": [
    "len(list(data.iterrows()))"
   ]
  },
  {
   "cell_type": "code",
   "execution_count": null,
   "metadata": {},
   "outputs": [
    {
     "data": {
      "text/plain": [
       "Form factor                 9\n",
       "Cellular Technology         6\n",
       "Special features            4\n",
       "What's in the box           3\n",
       "Battery Power (In mAH)      2\n",
       "Camera Description          1\n",
       "OS                          1\n",
       "Phone Warranty (months)     0\n",
       "connectivity_tech           0\n",
       "no of 1 star                0\n",
       "no of 2 star                0\n",
       "no of 3 star                0\n",
       "no of 4 star                0\n",
       "no of 5 star                0\n",
       "mrp                         0\n",
       "Item Dimensions             0\n",
       "Battery type                0\n",
       "Network Service Provider    0\n",
       "Inbuilt Storage (in GB)     0\n",
       "Screen Type                 0\n",
       "Item Weight                 0\n",
       "RAM                         0\n",
       "Items Warranty (months)     0\n",
       "dtype: int64"
      ]
     },
     "execution_count": 67,
     "metadata": {},
     "output_type": "execute_result"
    }
   ],
   "source": [
    "data.isna().sum().sort_values(ascending=False)"
   ]
  },
  {
   "cell_type": "code",
   "execution_count": null,
   "metadata": {},
   "outputs": [],
   "source": [
    "data.dropna(subset=[\"Form factor\"], inplace=True)"
   ]
  },
  {
   "cell_type": "code",
   "execution_count": null,
   "metadata": {},
   "outputs": [
    {
     "data": {
      "text/plain": [
       "Cellular Technology         5\n",
       "Special features            3\n",
       "Battery Power (In mAH)      2\n",
       "What's in the box           2\n",
       "mrp                         0\n",
       "Item Dimensions             0\n",
       "Phone Warranty (months)     0\n",
       "connectivity_tech           0\n",
       "no of 1 star                0\n",
       "no of 2 star                0\n",
       "no of 3 star                0\n",
       "no of 4 star                0\n",
       "no of 5 star                0\n",
       "Camera Description          0\n",
       "Battery type                0\n",
       "Network Service Provider    0\n",
       "Inbuilt Storage (in GB)     0\n",
       "Screen Type                 0\n",
       "Item Weight                 0\n",
       "Form factor                 0\n",
       "RAM                         0\n",
       "OS                          0\n",
       "Items Warranty (months)     0\n",
       "dtype: int64"
      ]
     },
     "execution_count": 69,
     "metadata": {},
     "output_type": "execute_result"
    }
   ],
   "source": [
    "data.isna().sum().sort_values(ascending=False)"
   ]
  },
  {
   "cell_type": "code",
   "execution_count": null,
   "metadata": {},
   "outputs": [
    {
     "data": {
      "text/plain": [
       "Cellular Technology\n",
       "4G                                                                                                                                     126\n",
       "5G                                                                                                                                     102\n",
       "LTE                                                                                                                                     31\n",
       "5G, 4G LTE                                                                                                                              10\n",
       "2G,3 G,4G,LTE,VOLTE                                                                                                                      9\n",
       "4G,3G,2G                                                                                                                                 7\n",
       "2G                                                                                                                                       6\n",
       "4G VOLTE, 4G, 3G, 2G                                                                                                                     3\n",
       "2G, 3G, 4G                                                                                                                               3\n",
       "5G, 4G                                                                                                                                   2\n",
       "5G, GSM                                                                                                                                  2\n",
       "2G GSM,3G WCDMA,4G LTE FDD,4G LTE TDD                                                                                                    2\n",
       "(4G+5G)                                                                                                                                  1\n",
       "Supports 5G* / 4G / 3G/ 2G *Supported 5G Bands: NR (SA & NSA): n1/n3/n5/n7/n8/n20/n28/n38/n40/n41/n66/n71/n75/n77/n78/n79  See more      1\n",
       "2G,3 G,4G                                                                                                                                1\n",
       "2G/3G/4G/LTE/VOLTE                                                                                                                       1\n",
       "Name: count, dtype: int64"
      ]
     },
     "execution_count": 70,
     "metadata": {},
     "output_type": "execute_result"
    }
   ],
   "source": [
    "data[\"Cellular Technology\"].value_counts()"
   ]
  },
  {
   "cell_type": "code",
   "execution_count": null,
   "metadata": {},
   "outputs": [],
   "source": [
    "mapping = {\n",
    "    'Supports 5G* / 4G / 3G/ 2G *Supported 5G Bands: NR (SA & NSA): n1/n3/n5/n7/n8/n20/n28/n38/n40/n41/n66/n71/n75/n77/n78/n79  See more': \"5G / 4G / 3G/ 2G\",\n",
    "    \"(4G,3G,2G)\": \"4G,3G,2G\",\n",
    "}\n",
    "\n",
    "data['Cellular Technology'] = data['Cellular Technology'].replace(mapping)"
   ]
  },
  {
   "cell_type": "code",
   "execution_count": null,
   "metadata": {},
   "outputs": [
    {
     "data": {
      "text/plain": [
       "Cellular Technology\n",
       "4G                                       126\n",
       "5G                                       102\n",
       "LTE                                       31\n",
       "5G, 4G LTE                                10\n",
       "2G,3 G,4G,LTE,VOLTE                        9\n",
       "4G,3G,2G                                   7\n",
       "2G                                         6\n",
       "4G VOLTE, 4G, 3G, 2G                       3\n",
       "2G, 3G, 4G                                 3\n",
       "5G, 4G                                     2\n",
       "5G, GSM                                    2\n",
       "2G GSM,3G WCDMA,4G LTE FDD,4G LTE TDD      2\n",
       "(4G+5G)                                    1\n",
       "5G / 4G / 3G/ 2G                           1\n",
       "2G,3 G,4G                                  1\n",
       "2G/3G/4G/LTE/VOLTE                         1\n",
       "Name: count, dtype: int64"
      ]
     },
     "execution_count": 72,
     "metadata": {},
     "output_type": "execute_result"
    }
   ],
   "source": [
    "data['Cellular Technology'].value_counts()"
   ]
  },
  {
   "cell_type": "code",
   "execution_count": null,
   "metadata": {},
   "outputs": [],
   "source": [
    "def split_cellular_tech(row):\n",
    "    if pd.isnull(row[\"Cellular Technology\"]):\n",
    "        return None\n",
    "    else:\n",
    "        string = row[\"Cellular Technology\"].replace(\",\", \"/\")\n",
    "        string = string.replace(\"*\", \"/\")\n",
    "        lst = [char.strip() for char in string.split(\"/\")]\n",
    "        return lst\n",
    "\n",
    "data[\"Cellular Technology\"] = data.apply(split_cellular_tech, axis=1)"
   ]
  },
  {
   "cell_type": "code",
   "execution_count": null,
   "metadata": {},
   "outputs": [
    {
     "data": {
      "text/plain": [
       "Cellular Technology\n",
       "[4G]                                          126\n",
       "[5G]                                          102\n",
       "[LTE]                                          31\n",
       "[5G, 4G LTE]                                   10\n",
       "[2G, 3 G, 4G, LTE, VOLTE]                       9\n",
       "[4G, 3G, 2G]                                    7\n",
       "[2G]                                            6\n",
       "[4G VOLTE, 4G, 3G, 2G]                          3\n",
       "[2G, 3G, 4G]                                    3\n",
       "[5G, 4G]                                        2\n",
       "[5G, GSM]                                       2\n",
       "[2G GSM, 3G WCDMA, 4G LTE FDD, 4G LTE TDD]      2\n",
       "[(4G+5G)]                                       1\n",
       "[5G, 4G, 3G, 2G]                                1\n",
       "[2G, 3 G, 4G]                                   1\n",
       "[2G, 3G, 4G, LTE, VOLTE]                        1\n",
       "Name: count, dtype: int64"
      ]
     },
     "execution_count": 74,
     "metadata": {},
     "output_type": "execute_result"
    }
   ],
   "source": [
    "data[\"Cellular Technology\"].value_counts()"
   ]
  },
  {
   "cell_type": "code",
   "execution_count": null,
   "metadata": {},
   "outputs": [],
   "source": [
    "data[data.isnull().any(axis=1)].to_csv(\"temp.csv\")"
   ]
  },
  {
   "cell_type": "code",
   "execution_count": null,
   "metadata": {},
   "outputs": [
    {
     "data": {
      "text/plain": [
       "4G            153\n",
       "5G            117\n",
       "LTE            41\n",
       "2G             31\n",
       "3G             15\n",
       "3 G            10\n",
       "VOLTE          10\n",
       "4G LTE         10\n",
       "4G VOLTE        3\n",
       "GSM             2\n",
       "2G GSM          2\n",
       "3G WCDMA        2\n",
       "4G LTE FDD      2\n",
       "4G LTE TDD      2\n",
       "(4G+5G)         1\n",
       "Name: count, dtype: int64"
      ]
     },
     "execution_count": 76,
     "metadata": {},
     "output_type": "execute_result"
    }
   ],
   "source": [
    "data[\"Cellular Technology\"].apply(pd.Series).stack().value_counts()"
   ]
  },
  {
   "cell_type": "code",
   "execution_count": null,
   "metadata": {},
   "outputs": [],
   "source": [
    "def replace_cellular_technology(lst):\n",
    "    if lst is None:\n",
    "        return None\n",
    "\n",
    "    replacements = {\n",
    "        '4G LTE FDD': '4G LTE',\n",
    "        '4G LTE TDD': '4G LTE',\n",
    "        '3G WCDMA': '3G',\n",
    "        '3 G': '3G',\n",
    "        '4G LTE': '4G',\n",
    "        'GSM': '2G',\n",
    "        \"LTE\": \"4G\",\n",
    "        \"2G GSM\": \"2G\",\n",
    "        \"4G VOLTE\": \"4G\",\n",
    "        \"VOLTE\": \"4G\"\n",
    "    }\n",
    "\n",
    "    return [replacements.get(val, val) for val in lst]\n",
    "\n",
    "data['Cellular Technology'] = data['Cellular Technology'].apply(replace_cellular_technology)"
   ]
  },
  {
   "cell_type": "code",
   "execution_count": null,
   "metadata": {},
   "outputs": [],
   "source": [
    "data[data.isnull().any(axis=1)].to_csv(\"temp.csv\")"
   ]
  },
  {
   "cell_type": "code",
   "execution_count": null,
   "metadata": {},
   "outputs": [
    {
     "data": {
      "text/plain": [
       "312"
      ]
     },
     "execution_count": 79,
     "metadata": {},
     "output_type": "execute_result"
    }
   ],
   "source": [
    "len(list(data.iterrows()))"
   ]
  },
  {
   "cell_type": "code",
   "execution_count": null,
   "metadata": {},
   "outputs": [],
   "source": [
    "data.dropna(subset=[\"Battery Power (In mAH)\", \"Cellular Technology\", \"Camera Description\"], inplace=True)"
   ]
  },
  {
   "cell_type": "code",
   "execution_count": null,
   "metadata": {},
   "outputs": [
    {
     "data": {
      "text/plain": [
       "305"
      ]
     },
     "execution_count": 81,
     "metadata": {},
     "output_type": "execute_result"
    }
   ],
   "source": [
    "len(list(data.iterrows()))"
   ]
  },
  {
   "cell_type": "code",
   "execution_count": null,
   "metadata": {},
   "outputs": [
    {
     "data": {
      "text/plain": [
       "Special features            3\n",
       "mrp                         0\n",
       "Battery type                0\n",
       "Phone Warranty (months)     0\n",
       "connectivity_tech           0\n",
       "no of 1 star                0\n",
       "no of 2 star                0\n",
       "no of 3 star                0\n",
       "no of 4 star                0\n",
       "no of 5 star                0\n",
       "What's in the box           0\n",
       "Item Dimensions             0\n",
       "Camera Description          0\n",
       "Network Service Provider    0\n",
       "Inbuilt Storage (in GB)     0\n",
       "Battery Power (In mAH)      0\n",
       "Screen Type                 0\n",
       "Item Weight                 0\n",
       "Form factor                 0\n",
       "RAM                         0\n",
       "Cellular Technology         0\n",
       "OS                          0\n",
       "Items Warranty (months)     0\n",
       "dtype: int64"
      ]
     },
     "execution_count": 82,
     "metadata": {},
     "output_type": "execute_result"
    }
   ],
   "source": [
    "data.isna().sum().sort_values(ascending=False)"
   ]
  },
  {
   "cell_type": "code",
   "execution_count": null,
   "metadata": {},
   "outputs": [
    {
     "data": {
      "text/plain": [
       "3"
      ]
     },
     "execution_count": 83,
     "metadata": {},
     "output_type": "execute_result"
    }
   ],
   "source": [
    "len(list(data[data.isnull().any(axis=1)].iterrows()))"
   ]
  },
  {
   "cell_type": "code",
   "execution_count": null,
   "metadata": {},
   "outputs": [],
   "source": [
    "data[data.notna().any(axis=1)].to_csv(\"temp.csv\")"
   ]
  },
  {
   "cell_type": "code",
   "execution_count": null,
   "metadata": {},
   "outputs": [],
   "source": [
    "def get_num_from_bat(row):\n",
    "    if pd.isnull(row[\"Battery Power (In mAH)\"]):\n",
    "        return None\n",
    "    else:\n",
    "        string = row[\"Battery Power (In mAH)\"].split()[0]\n",
    "        return string\n",
    "\n",
    "data[\"Battery Power (In mAH)\"] = data.apply(get_num_from_bat, axis=1).astype(int)"
   ]
  },
  {
   "cell_type": "code",
   "execution_count": null,
   "metadata": {},
   "outputs": [
    {
     "ename": "ValueError",
     "evalue": "invalid literal for int() with base 10: '0.05'",
     "output_type": "error",
     "traceback": [
      "\u001b[1;31m---------------------------------------------------------------------------\u001b[0m",
      "\u001b[1;31mValueError\u001b[0m                                Traceback (most recent call last)",
      "Cell \u001b[1;32mIn[86], line 8\u001b[0m\n\u001b[0;32m      5\u001b[0m         string \u001b[39m=\u001b[39m \u001b[39mstr\u001b[39m(row[\u001b[39m\"\u001b[39m\u001b[39mRAM\u001b[39m\u001b[39m\"\u001b[39m])\u001b[39m.\u001b[39msplit()[\u001b[39m0\u001b[39m]\n\u001b[0;32m      6\u001b[0m         \u001b[39mreturn\u001b[39;00m string\n\u001b[1;32m----> 8\u001b[0m data[\u001b[39m\"\u001b[39m\u001b[39mRAM\u001b[39m\u001b[39m\"\u001b[39m] \u001b[39m=\u001b[39m data\u001b[39m.\u001b[39;49mapply(get_num_from_ram, axis\u001b[39m=\u001b[39;49m\u001b[39m1\u001b[39;49m)\u001b[39m.\u001b[39;49mastype(\u001b[39mint\u001b[39;49m)\n",
      "File \u001b[1;32mc:\\Users\\sunil\\DevStuff\\an-001\\venv\\Lib\\site-packages\\pandas\\core\\generic.py:6324\u001b[0m, in \u001b[0;36mNDFrame.astype\u001b[1;34m(self, dtype, copy, errors)\u001b[0m\n\u001b[0;32m   6317\u001b[0m     results \u001b[39m=\u001b[39m [\n\u001b[0;32m   6318\u001b[0m         \u001b[39mself\u001b[39m\u001b[39m.\u001b[39miloc[:, i]\u001b[39m.\u001b[39mastype(dtype, copy\u001b[39m=\u001b[39mcopy)\n\u001b[0;32m   6319\u001b[0m         \u001b[39mfor\u001b[39;00m i \u001b[39min\u001b[39;00m \u001b[39mrange\u001b[39m(\u001b[39mlen\u001b[39m(\u001b[39mself\u001b[39m\u001b[39m.\u001b[39mcolumns))\n\u001b[0;32m   6320\u001b[0m     ]\n\u001b[0;32m   6322\u001b[0m \u001b[39melse\u001b[39;00m:\n\u001b[0;32m   6323\u001b[0m     \u001b[39m# else, only a single dtype is given\u001b[39;00m\n\u001b[1;32m-> 6324\u001b[0m     new_data \u001b[39m=\u001b[39m \u001b[39mself\u001b[39;49m\u001b[39m.\u001b[39;49m_mgr\u001b[39m.\u001b[39;49mastype(dtype\u001b[39m=\u001b[39;49mdtype, copy\u001b[39m=\u001b[39;49mcopy, errors\u001b[39m=\u001b[39;49merrors)\n\u001b[0;32m   6325\u001b[0m     \u001b[39mreturn\u001b[39;00m \u001b[39mself\u001b[39m\u001b[39m.\u001b[39m_constructor(new_data)\u001b[39m.\u001b[39m__finalize__(\u001b[39mself\u001b[39m, method\u001b[39m=\u001b[39m\u001b[39m\"\u001b[39m\u001b[39mastype\u001b[39m\u001b[39m\"\u001b[39m)\n\u001b[0;32m   6327\u001b[0m \u001b[39m# GH 33113: handle empty frame or series\u001b[39;00m\n",
      "File \u001b[1;32mc:\\Users\\sunil\\DevStuff\\an-001\\venv\\Lib\\site-packages\\pandas\\core\\internals\\managers.py:451\u001b[0m, in \u001b[0;36mBaseBlockManager.astype\u001b[1;34m(self, dtype, copy, errors)\u001b[0m\n\u001b[0;32m    448\u001b[0m \u001b[39melif\u001b[39;00m using_copy_on_write():\n\u001b[0;32m    449\u001b[0m     copy \u001b[39m=\u001b[39m \u001b[39mFalse\u001b[39;00m\n\u001b[1;32m--> 451\u001b[0m \u001b[39mreturn\u001b[39;00m \u001b[39mself\u001b[39;49m\u001b[39m.\u001b[39;49mapply(\n\u001b[0;32m    452\u001b[0m     \u001b[39m\"\u001b[39;49m\u001b[39mastype\u001b[39;49m\u001b[39m\"\u001b[39;49m,\n\u001b[0;32m    453\u001b[0m     dtype\u001b[39m=\u001b[39;49mdtype,\n\u001b[0;32m    454\u001b[0m     copy\u001b[39m=\u001b[39;49mcopy,\n\u001b[0;32m    455\u001b[0m     errors\u001b[39m=\u001b[39;49merrors,\n\u001b[0;32m    456\u001b[0m     using_cow\u001b[39m=\u001b[39;49musing_copy_on_write(),\n\u001b[0;32m    457\u001b[0m )\n",
      "File \u001b[1;32mc:\\Users\\sunil\\DevStuff\\an-001\\venv\\Lib\\site-packages\\pandas\\core\\internals\\managers.py:352\u001b[0m, in \u001b[0;36mBaseBlockManager.apply\u001b[1;34m(self, f, align_keys, **kwargs)\u001b[0m\n\u001b[0;32m    350\u001b[0m         applied \u001b[39m=\u001b[39m b\u001b[39m.\u001b[39mapply(f, \u001b[39m*\u001b[39m\u001b[39m*\u001b[39mkwargs)\n\u001b[0;32m    351\u001b[0m     \u001b[39melse\u001b[39;00m:\n\u001b[1;32m--> 352\u001b[0m         applied \u001b[39m=\u001b[39m \u001b[39mgetattr\u001b[39;49m(b, f)(\u001b[39m*\u001b[39;49m\u001b[39m*\u001b[39;49mkwargs)\n\u001b[0;32m    353\u001b[0m     result_blocks \u001b[39m=\u001b[39m extend_blocks(applied, result_blocks)\n\u001b[0;32m    355\u001b[0m out \u001b[39m=\u001b[39m \u001b[39mtype\u001b[39m(\u001b[39mself\u001b[39m)\u001b[39m.\u001b[39mfrom_blocks(result_blocks, \u001b[39mself\u001b[39m\u001b[39m.\u001b[39maxes)\n",
      "File \u001b[1;32mc:\\Users\\sunil\\DevStuff\\an-001\\venv\\Lib\\site-packages\\pandas\\core\\internals\\blocks.py:511\u001b[0m, in \u001b[0;36mBlock.astype\u001b[1;34m(self, dtype, copy, errors, using_cow)\u001b[0m\n\u001b[0;32m    491\u001b[0m \u001b[39m\u001b[39m\u001b[39m\"\"\"\u001b[39;00m\n\u001b[0;32m    492\u001b[0m \u001b[39mCoerce to the new dtype.\u001b[39;00m\n\u001b[0;32m    493\u001b[0m \n\u001b[1;32m   (...)\u001b[0m\n\u001b[0;32m    507\u001b[0m \u001b[39mBlock\u001b[39;00m\n\u001b[0;32m    508\u001b[0m \u001b[39m\"\"\"\u001b[39;00m\n\u001b[0;32m    509\u001b[0m values \u001b[39m=\u001b[39m \u001b[39mself\u001b[39m\u001b[39m.\u001b[39mvalues\n\u001b[1;32m--> 511\u001b[0m new_values \u001b[39m=\u001b[39m astype_array_safe(values, dtype, copy\u001b[39m=\u001b[39;49mcopy, errors\u001b[39m=\u001b[39;49merrors)\n\u001b[0;32m    513\u001b[0m new_values \u001b[39m=\u001b[39m maybe_coerce_values(new_values)\n\u001b[0;32m    515\u001b[0m refs \u001b[39m=\u001b[39m \u001b[39mNone\u001b[39;00m\n",
      "File \u001b[1;32mc:\\Users\\sunil\\DevStuff\\an-001\\venv\\Lib\\site-packages\\pandas\\core\\dtypes\\astype.py:242\u001b[0m, in \u001b[0;36mastype_array_safe\u001b[1;34m(values, dtype, copy, errors)\u001b[0m\n\u001b[0;32m    239\u001b[0m     dtype \u001b[39m=\u001b[39m dtype\u001b[39m.\u001b[39mnumpy_dtype\n\u001b[0;32m    241\u001b[0m \u001b[39mtry\u001b[39;00m:\n\u001b[1;32m--> 242\u001b[0m     new_values \u001b[39m=\u001b[39m astype_array(values, dtype, copy\u001b[39m=\u001b[39;49mcopy)\n\u001b[0;32m    243\u001b[0m \u001b[39mexcept\u001b[39;00m (\u001b[39mValueError\u001b[39;00m, \u001b[39mTypeError\u001b[39;00m):\n\u001b[0;32m    244\u001b[0m     \u001b[39m# e.g. _astype_nansafe can fail on object-dtype of strings\u001b[39;00m\n\u001b[0;32m    245\u001b[0m     \u001b[39m#  trying to convert to float\u001b[39;00m\n\u001b[0;32m    246\u001b[0m     \u001b[39mif\u001b[39;00m errors \u001b[39m==\u001b[39m \u001b[39m\"\u001b[39m\u001b[39mignore\u001b[39m\u001b[39m\"\u001b[39m:\n",
      "File \u001b[1;32mc:\\Users\\sunil\\DevStuff\\an-001\\venv\\Lib\\site-packages\\pandas\\core\\dtypes\\astype.py:187\u001b[0m, in \u001b[0;36mastype_array\u001b[1;34m(values, dtype, copy)\u001b[0m\n\u001b[0;32m    184\u001b[0m     values \u001b[39m=\u001b[39m values\u001b[39m.\u001b[39mastype(dtype, copy\u001b[39m=\u001b[39mcopy)\n\u001b[0;32m    186\u001b[0m \u001b[39melse\u001b[39;00m:\n\u001b[1;32m--> 187\u001b[0m     values \u001b[39m=\u001b[39m _astype_nansafe(values, dtype, copy\u001b[39m=\u001b[39;49mcopy)\n\u001b[0;32m    189\u001b[0m \u001b[39m# in pandas we don't store numpy str dtypes, so convert to object\u001b[39;00m\n\u001b[0;32m    190\u001b[0m \u001b[39mif\u001b[39;00m \u001b[39misinstance\u001b[39m(dtype, np\u001b[39m.\u001b[39mdtype) \u001b[39mand\u001b[39;00m \u001b[39missubclass\u001b[39m(values\u001b[39m.\u001b[39mdtype\u001b[39m.\u001b[39mtype, \u001b[39mstr\u001b[39m):\n",
      "File \u001b[1;32mc:\\Users\\sunil\\DevStuff\\an-001\\venv\\Lib\\site-packages\\pandas\\core\\dtypes\\astype.py:138\u001b[0m, in \u001b[0;36m_astype_nansafe\u001b[1;34m(arr, dtype, copy, skipna)\u001b[0m\n\u001b[0;32m    134\u001b[0m     \u001b[39mraise\u001b[39;00m \u001b[39mValueError\u001b[39;00m(msg)\n\u001b[0;32m    136\u001b[0m \u001b[39mif\u001b[39;00m copy \u001b[39mor\u001b[39;00m is_object_dtype(arr\u001b[39m.\u001b[39mdtype) \u001b[39mor\u001b[39;00m is_object_dtype(dtype):\n\u001b[0;32m    137\u001b[0m     \u001b[39m# Explicit copy, or required since NumPy can't view from / to object.\u001b[39;00m\n\u001b[1;32m--> 138\u001b[0m     \u001b[39mreturn\u001b[39;00m arr\u001b[39m.\u001b[39;49mastype(dtype, copy\u001b[39m=\u001b[39;49m\u001b[39mTrue\u001b[39;49;00m)\n\u001b[0;32m    140\u001b[0m \u001b[39mreturn\u001b[39;00m arr\u001b[39m.\u001b[39mastype(dtype, copy\u001b[39m=\u001b[39mcopy)\n",
      "\u001b[1;31mValueError\u001b[0m: invalid literal for int() with base 10: '0.05'"
     ]
    }
   ],
   "source": [
    "def get_num_from_ram(row):\n",
    "    if pd.isnull(row[\"RAM\"]):\n",
    "        return None\n",
    "    else:\n",
    "        string = str(row[\"RAM\"]).split()[0]\n",
    "        return string\n",
    "\n",
    "data[\"RAM\"] = data.apply(get_num_from_ram, axis=1).astype(int)"
   ]
  },
  {
   "cell_type": "code",
   "execution_count": null,
   "metadata": {},
   "outputs": [
    {
     "data": {
      "text/plain": [
       "RAM\n",
       "8      98\n",
       "4      62\n",
       "6      39\n",
       "3      18\n",
       "2      13\n",
       "12     10\n",
       "128     5\n",
       "64      4\n",
       "256     2\n",
       "16      2\n",
       "Name: count, dtype: int64"
      ]
     },
     "execution_count": 344,
     "metadata": {},
     "output_type": "execute_result"
    }
   ],
   "source": [
    "data[\"RAM\"].value_counts()"
   ]
  },
  {
   "cell_type": "code",
   "execution_count": null,
   "metadata": {},
   "outputs": [],
   "source": [
    "def get_num_from_inbuilt(row):\n",
    "    if pd.isnull(row[\"Inbuilt Storage (in GB)\"]):\n",
    "        return None\n",
    "    else:\n",
    "        string = str(row[\"Inbuilt Storage (in GB)\"]).split()[0]\n",
    "        return string\n",
    "\n",
    "data[\"Inbuilt Storage (in GB)\"] = data.apply(get_num_from_inbuilt, axis=1).astype(int)"
   ]
  },
  {
   "cell_type": "code",
   "execution_count": null,
   "metadata": {},
   "outputs": [],
   "source": [
    "def get_num_from_gram(row):\n",
    "    if pd.isnull(row[\"Item Weight\"]):\n",
    "        return None\n",
    "    else:\n",
    "        string, type = str(row[\"Item Weight\"]).split()\n",
    "        if type == \"kg\":\n",
    "            string = float(string) * 1000\n",
    "        string = int(float(string))\n",
    "        return string\n",
    "\n",
    "data[\"Item Weight\"] = data.apply(get_num_from_gram, axis=1).astype(int)"
   ]
  },
  {
   "cell_type": "code",
   "execution_count": null,
   "metadata": {},
   "outputs": [],
   "source": [
    "def extract_dimensions(row):\n",
    "    dimensions = str(row[\"Item Dimensions\"])\n",
    "    seperations = [value.split()[0] for value in dimensions.split(\" x \")]\n",
    "\n",
    "    length, width, height = sorted(map(\n",
    "        float, seperations\n",
    "    ), reverse=True)\n",
    "\n",
    "    if height > 10:\n",
    "        height /= 10\n",
    "    \n",
    "    if width > 10:\n",
    "        width /= 10\n",
    "    \n",
    "    return [length, width, height]\n",
    "\n",
    "# for index, row in data.iterrows():\n",
    "#     print(index, str(row[\"Item Dimensions\"]))\n",
    "\n",
    "data[['length', 'width', 'height']] = data.apply(extract_dimensions, axis=1, result_type='expand')"
   ]
  },
  {
   "cell_type": "code",
   "execution_count": null,
   "metadata": {},
   "outputs": [],
   "source": [
    "data[data.notna().any(axis=1)].to_csv(\"temp.csv\")"
   ]
  },
  {
   "cell_type": "code",
   "execution_count": null,
   "metadata": {},
   "outputs": [
    {
     "data": {
      "text/plain": [
       "Camera Description\n",
       "Rear, Front                                                                                                                                                                                                                                                                                                                                                                                                                                                                                                                                                                                   53\n",
       "Front                                                                                                                                                                                                                                                                                                                                                                                                                                                                                                                                                                                         53\n",
       "Front, Rear                                                                                                                                                                                                                                                                                                                                                                                                                                                                                                                                                                                   48\n",
       "Rear                                                                                                                                                                                                                                                                                                                                                                                                                                                                                                                                                                                          20\n",
       "48MP+8MP+5MP                                                                                                                                                                                                                                                                                                                                                                                                                                                                                                                                                                                   5\n",
       "8MP                                                                                                                                                                                                                                                                                                                                                                                                                                                                                                                                                                                            3\n",
       "108MP+8MP+5MP                                                                                                                                                                                                                                                                                                                                                                                                                                                                                                                                                                                  3\n",
       "5MP                                                                                                                                                                                                                                                                                                                                                                                                                                                                                                                                                                                            3\n",
       "13MP Dual Rear Camera                                                                                                                                                                                                                                                                                                                                                                                                                                                                                                                                                                          2\n",
       "Quad Rear Camera (50MP+8MP+2MP+2MP) | 13 MP Front Camera                                                                                                                                                                                                                                                                                                                                                                                                                                                                                                                                       2\n",
       "Quad Rear Camera (108MP+8MP+2MP+2MP) | 16 MP Front camera                                                                                                                                                                                                                                                                                                                                                                                                                                                                                                                                      2\n",
       "13MP+8MP+2MP, Triple Rear Camera (13MP + 8MP + 2MP) | 16MP Front Camera                                                                                                                                                                                                                                                                                                                                                                                                                                                                                                                        2\n",
       "32MP                                                                                                                                                                                                                                                                                                                                                                                                                                                                                                                                                                                           2\n",
       "108 MP + 8 MP + 5 MP                                                                                                                                                                                                                                                                                                                                                                                                                                                                                                                                                                           2\n",
       "50MP Dual Rear Camera                                                                                                                                                                                                                                                                                                                                                                                                                                                                                                                                                                          2\n",
       "10MP                                                                                                                                                                                                                                                                                                                                                                                                                                                                                                                                                                                           2\n",
       "16MP+12MP+12MP                                                                                                                                                                                                                                                                                                                                                                                                                                                                                                                                                                                 2\n",
       "Triple Rear Camera (48MP + 2MP + 2MP) | 8MP Front Camera                                                                                                                                                                                                                                                                                                                                                                                                                                                                                                                                       1\n",
       "Triple Rear Camera (50MP + 2MP + 2MP) | 8 MP Front Camera                                                                                                                                                                                                                                                                                                                                                                                                                                                                                                                                      1\n",
       "Triple Rear Camera (108 MP + 8 MP + 5 MP) | 20 MP Front Camera                                                                                                                                                                                                                                                                                                                                                                                                                                                                                                                                 1\n",
       "Rear Camera: 64MP OIS + 2MP (Bokeh) +2MP (Macro), Front Camera: 16MP                                                                                                                                                                                                                                                                                                                                                                                                                                                                                                                           1\n",
       "Rear Camera: 48MP GIMBAL + 13MP (Wide Angle/Macro) + 13MP (50MM Portrait/2X Optical Zoom) | Front Camera: 16MP                                                                                                                                                                                                                                                                                                                                                                                                                                                                                 1\n",
       "50MP SuperNight Triple Camera with Quad Flashlight | F1.6 Large Aperture | PDAF | Super Night, Intelligent Focus, HDR, Smile Shot, AI Beauty, AI Scene Detection, AI Portrait, Filters, Continuous Shot, Ultra HD, Google Lens, AI Body Shaping, 10X Zoom, Documents, Panorama, Video Bokeh, Video Beauty, Slow Motion, Time-lapse, AR Shot, Short Video; 8MP Front Camera with Dual Front Flash | AI Portrait, AI Beauty, Wide Selfie, HDR, AI Scene Detection, Filters, Continuous Shot, Eye Autofocus, Smile Shot, 2X Zoom, Video Bokeh, Video Beauty, Time-lapse, AR Shot, Short Video     1\n",
       "Rear; 50MP+AI Lens (AI Portrait, AI Beauty, HDR, AR Shot, Filters, Documents, Panorama, Smile Shot, Time-lapse, Slow Motion,Video Bokeh, Burst Mode, 16 AI Scene Detection, Google Lens, AI Body Shaping, 10X Zoom, Quad Flashlight)                                                                                                                                                                                                                                                                                                                                                           1\n",
       "50MP AI Triple Rear camera with F1.6 large aperture | PDAF | Quad Flashlight | Intelligent Focus, Super Night Mode, HDR Mode, Smile Shot, Portrait Mode, 240FPS Slow Motion, 2K Timelapse, Video Bokeh; 8MP HDR Selfie Camera with Dual Front Flash | F2.0 Aperture | 2K time-lapse, Short Video, Video Bokeh, Video Beauty, AR Shot, Eye Autofocus                                                                                                                                                                                                                                            1\n",
       "13MP AI Enhanced Dual Rear Camera with Dual Flashlight, 8MP Selfie camera with front flash                                                                                                                                                                                                                                                                                                                                                                                                                                                                                                     1\n",
       "Quad Camera (108MP+8MP+2MP+2MP) | 32MP Front Camera                                                                                                                                                                                                                                                                                                                                                                                                                                                                                                                                            1\n",
       "Triple Camera (50MP+5MP+2MP) | 8MP Front Camera                                                                                                                                                                                                                                                                                                                                                                                                                                                                                                                                                1\n",
       "50MP+2MP+2MP | 16MP Front Camera                                                                                                                                                                                                                                                                                                                                                                                                                                                                                                                                                               1\n",
       "Capture the sights around you, in all their brilliance, with this smartphone’s quad-camera set-up (48 MP + 5 MP + 2 MP + 2 MP).                                                                                                                                                                                                                                                                                                                                                                                                                                                                1\n",
       "Quad Rear Camera (50MP+8MP+2MP+2MP)|Front Camera (8 MP); 50MP Superstar Camera, 8MP Ultra-wide, 2MP Macro, 2MP Depth, 8MP AI Selfie Camera                                                                                                                                                                                                                                                                                                                                                                                                                                                     1\n",
       "Quad Rear camera (64 MP + 8 MP + 2 MP) | 13 MP Front Camera                                                                                                                                                                                                                                                                                                                                                                                                                                                                                                                                    1\n",
       "Triple Rear Camera (64MP + 8MP + 5MP) | 16MP Front Camera                                                                                                                                                                                                                                                                                                                                                                                                                                                                                                                                      1\n",
       "48MP+8MP+2MP+2MP                                                                                                                                                                                                                                                                                                                                                                                                                                                                                                                                                                               1\n",
       "8MP Camera, Camera Feature: Panorama, Burst Mode, Timelapse, Face Beauty, Night Mode, Slow Motion, QR Code Scanner, Pro Mode; 5MP Front Camera, Features: Face Beauty, Night Mode, Portrait Mode                                                                                                                                                                                                                                                                                                                                                                                               1\n",
       "Rear camera (5MP)| 5MP Front camera                                                                                                                                                                                                                                                                                                                                                                                                                                                                                                                                                            1\n",
       "48MP, Quad Rear Camera (48 MP + 8 MP + 2 MP) | 13 MP Front Camera                                                                                                                                                                                                                                                                                                                                                                                                                                                                                                                              1\n",
       "Quad Rear Camera (64 MP + 8 MP + 2 MP + 2 MP) | 20 MP Front Camera                                                                                                                                                                                                                                                                                                                                                                                                                                                                                                                             1\n",
       "Rear Camera: 50 MP GN5 OIS Camera + 8 MP Ultra Wide Angle + 13 MP Telephoto/ Portrait | Front Camera: 16 MP                                                                                                                                                                                                                                                                                                                                                                                                                                                                                    1\n",
       "Triple Rear Camera (64MP+8MP+5MP) | 20 MP Front camera                                                                                                                                                                                                                                                                                                                                                                                                                                                                                                                                         1\n",
       "Dual Rear Camera (13MP + 2MP) | 20MP Front Camera                                                                                                                                                                                                                                                                                                                                                                                                                                                                                                                                              1\n",
       "Triple Rear Camera (12MP+8MP+12MP) | 32MP Front Camera                                                                                                                                                                                                                                                                                                                                                                                                                                                                                                                                         1\n",
       "World's 1st Retractable 50MP Portrait Lens                                                                                                                                                                                                                                                                                                                                                                                                                                                                                                                                                     1\n",
       "Rear; 50MP+13MP+8MP: 1/1.3inch Super Large Sensor, 108MP Ultra HD Mode, 13MP Professional Portrait Lens, 8MP Macro Mode, Dual Core+Laser focus, 120° Wide Angle, Super Night Mode-Tripod Mode, AI Beauty, AI Portrait- Various Professional Themes, HDR, Filters, 30X Zoom, Intelligent Focus, Documents, Panorama, Google Lens, AI Body Shape, Burst Shot, 4K Video 30 FPS, Ultra Steady Mode, Video Bokeh, Video Beauty, 4K time lapse, 960FPS Slow Motion, AR Shot, Night Video, Film, Short Video, Quad Flashlight                                                                         1\n",
       "Industry First 64MP RGBW+(G+P) Camera with Optical Image Stabilization+ 50MP 50mm Portrait Camera+2MP Triple rear Camera, 32MP HDR Selfie Camera                                                                                                                                                                                                                                                                                                                                                                                                                                               1\n",
       "12MP Dual Rear Camera                                                                                                                                                                                                                                                                                                                                                                                                                                                                                                                                                                          1\n",
       "Quad Rear Camera (48MP + 8MP + 2MP + 2MP) | 32MP + 8MP Front Camera                                                                                                                                                                                                                                                                                                                                                                                                                                                                                                                            1\n",
       "48MP+13MP+8MP+5MP                                                                                                                                                                                                                                                                                                                                                                                                                                                                                                                                                                              1\n",
       "Triple Rear Camera (64 MP + 8 MP + 2 MP) | 44 MP Front Camera                                                                                                                                                                                                                                                                                                                                                                                                                                                                                                                                  1\n",
       "16+8+2MP, Triple Rear Camera (16MP + 8MP + 2MP) | 16MP Front Camera                                                                                                                                                                                                                                                                                                                                                                                                                                                                                                                            1\n",
       "Triple Rear Camera (48MP + 2MP + 2MP) | 16MP Front Camera                                                                                                                                                                                                                                                                                                                                                                                                                                                                                                                                      1\n",
       "5MP (Front camera)                                                                                                                                                                                                                                                                                                                                                                                                                                                                                                                                                                             1\n",
       "Triple Rear Camera (64MP + 13MP + 5MP) | 20MP Front Camera                                                                                                                                                                                                                                                                                                                                                                                                                                                                                                                                     1\n",
       "Triple Rear Camera (13MP + 8MP + 2MP) | 8MP Front Camera                                                                                                                                                                                                                                                                                                                                                                                                                                                                                                                                       1\n",
       "2MP                                                                                                                                                                                                                                                                                                                                                                                                                                                                                                                                                                                            1\n",
       "Dual Rear Camera (13MP + 2MP) | 8MP Front Camera                                                                                                                                                                                                                                                                                                                                                                                                                                                                                                                                               1\n",
       "16MP                                                                                                                                                                                                                                                                                                                                                                                                                                                                                                                                                                                           1\n",
       "12MP                                                                                                                                                                                                                                                                                                                                                                                                                                                                                                                                                                                           1\n",
       "48MP OIS, Triple Rear Camera (48MP+13MP+13MP) | 16MP Front Camera                                                                                                                                                                                                                                                                                                                                                                                                                                                                                                                              1\n",
       "Triple Rear Camera (48MP+13MP+2MP)                                                                                                                                                                                                                                                                                                                                                                                                                                                                                                                                                             1\n",
       "50MP+13MP+12MP                                                                                                                                                                                                                                                                                                                                                                                                                                                                                                                                                                                 1\n",
       "Rear Camera (13MP) | 5MP Front Camera                                                                                                                                                                                                                                                                                                                                                                                                                                                                                                                                                          1\n",
       "Triple Rear Camera (48 MP + 8 MP + 5 MP) | 20 MP Front Camera                                                                                                                                                                                                                                                                                                                                                                                                                                                                                                                                  1\n",
       "Rear Camera: 50MP + 2MP | Front Camera: 8MP                                                                                                                                                                                                                                                                                                                                                                                                                                                                                                                                                    1\n",
       "Name: count, dtype: int64"
      ]
     },
     "execution_count": 349,
     "metadata": {},
     "output_type": "execute_result"
    }
   ],
   "source": [
    "data[\"Camera Description\"].value_counts()"
   ]
  },
  {
   "cell_type": "code",
   "execution_count": null,
   "metadata": {},
   "outputs": [],
   "source": [
    "def camera_features(desc):\n",
    "    features = {}\n",
    "\n",
    "    # Number of cameras\n",
    "    if 'quad' in desc.lower():\n",
    "        features['camera_count'] = 4\n",
    "    elif 'triple' in desc.lower():\n",
    "        features['camera_count'] = 3\n",
    "    elif 'dual' in desc.lower():\n",
    "        features['camera_count'] = 2\n",
    "    else:\n",
    "        features['camera_count'] = 1  # default is one camera\n",
    "\n",
    "    # Front and Rear camera\n",
    "    if 'front' in desc.lower():\n",
    "        features['has_front_camera_details'] = int('mp' in desc.lower())\n",
    "    else:\n",
    "        features['has_front_camera_details'] = 0  # default is no specifics \n",
    "\n",
    "    if 'rear' in desc.lower():\n",
    "        features['has_rear_camera_details'] = int('mp' in desc.lower())\n",
    "    else:\n",
    "        features['has_rear_camera_details'] = 0  # default is no specifics \n",
    "\n",
    "    # Check for specific features\n",
    "    features['cam_has_AI'] = int('ai' in desc.lower() or features['has_rear_camera_details'])\n",
    "    features['cam_has_OIS'] = int('ois' in desc.lower() or features['has_rear_camera_details'])\n",
    "    features['cam_has_Zoom'] = int('zoom' in desc.lower() or features['has_rear_camera_details'])\n",
    "    features['cam_has_HDR'] = int('hdr' in desc.lower() or features['has_rear_camera_details'])\n",
    "    features['cam_has_Macro'] = int('macro' in desc.lower() or features['has_rear_camera_details'])\n",
    "    features['cam_has_Portrait'] = int('portrait' in desc.lower() or features['has_rear_camera_details'])\n",
    "\n",
    "    # Camera resolution\n",
    "    match = re.search(r'(\\d+)MP', desc)\n",
    "    if match:\n",
    "        features['main_camera_MP'] = int(match.group(1))\n",
    "    else:\n",
    "        features['main_camera_MP'] = 12  # default is 12MP\n",
    "\n",
    "    del features[\"has_rear_camera_details\"], features['has_front_camera_details']\n",
    "\n",
    "    return pd.Series(features)\n",
    "\n",
    "camera_features_df = data['Camera Description'].apply(camera_features)\n",
    "data = pd.concat([data, camera_features_df], axis=1)"
   ]
  },
  {
   "cell_type": "code",
   "execution_count": null,
   "metadata": {},
   "outputs": [],
   "source": [
    "data.drop(columns=[\"Camera Description\", \"Item Dimensions\", \"What's in the box\", \"Special features\"], inplace=True)"
   ]
  },
  {
   "cell_type": "code",
   "execution_count": null,
   "metadata": {},
   "outputs": [
    {
     "data": {
      "text/plain": [
       "29"
      ]
     },
     "execution_count": 352,
     "metadata": {},
     "output_type": "execute_result"
    }
   ],
   "source": [
    "len(data.columns)"
   ]
  },
  {
   "cell_type": "code",
   "execution_count": null,
   "metadata": {},
   "outputs": [],
   "source": [
    "data[data.notna().any(axis=1)].to_csv(\"temp.csv\")"
   ]
  },
  {
   "cell_type": "code",
   "execution_count": null,
   "metadata": {},
   "outputs": [],
   "source": [
    "data[data.notna().any(axis=1)].to_csv(\"temp.csv\")"
   ]
  },
  {
   "cell_type": "code",
   "execution_count": null,
   "metadata": {},
   "outputs": [
    {
     "data": {
      "text/plain": [
       "Network Service Provider\n",
       "ALL                                   247\n",
       "Total Wireless                          3\n",
       "VoiceStream Wireless Provider Type      1\n",
       "AT&T                                    1\n",
       "Vodafone                                1\n",
       "Name: count, dtype: int64"
      ]
     },
     "execution_count": 355,
     "metadata": {},
     "output_type": "execute_result"
    }
   ],
   "source": [
    "data[\"Network Service Provider\"].value_counts()"
   ]
  },
  {
   "cell_type": "code",
   "execution_count": null,
   "metadata": {},
   "outputs": [],
   "source": [
    "data.drop(columns=[\"Network Service Provider\"], inplace=True)"
   ]
  },
  {
   "cell_type": "code",
   "execution_count": null,
   "metadata": {},
   "outputs": [
    {
     "data": {
      "text/plain": [
       "Index(['OS', 'Cellular Technology', 'RAM', 'Form factor', 'Item Weight',\n",
       "       'Screen Type', 'Battery Power (In mAH)', 'Inbuilt Storage (in GB)',\n",
       "       'Battery type', 'no of 5 star', 'no of 4 star', 'no of 3 star',\n",
       "       'no of 2 star', 'no of 1 star', 'connectivity_tech',\n",
       "       'Phone Warranty (months)', 'Items Warranty (months)', 'length', 'width',\n",
       "       'height', 'camera_count', 'cam_has_AI', 'cam_has_OIS', 'cam_has_Zoom',\n",
       "       'cam_has_HDR', 'cam_has_Macro', 'cam_has_Portrait', 'main_camera_MP'],\n",
       "      dtype='object')"
      ]
     },
     "execution_count": 357,
     "metadata": {},
     "output_type": "execute_result"
    }
   ],
   "source": [
    "data.columns"
   ]
  },
  {
   "cell_type": "code",
   "execution_count": null,
   "metadata": {},
   "outputs": [],
   "source": [
    "replacements = { \n",
    "    # \"Android 12.0\": ,\n",
    "    # \"Android 11.0\": ,\n",
    "    # \"Android 10.0\": ,\n",
    "    # \"Android 13.0\": ,\n",
    "    # \"Android\": ,\n",
    "    # \"Android 9.0\": ,\n",
    "    # \"OxygenOS\": ,\n",
    "    # \"MIUI 13\": ,\n",
    "    # \"FunTouch OS 12\": ,\n",
    "    # \"Android 8.1\": ,\n",
    "    \"HiOS 7.6 based on Android 11\": \"HiOS 7.6\",\n",
    "    \"Android 12(Go edition)\": \"Android 12, go edition\",\n",
    "    \"HiOS 8.6 based on Android 12\": \"HiOS 8.6\",\n",
    "    \"Funtouch OS 12 based on Android 12\": \"Funtouch OS 12\",\n",
    "    \"Funtouch OS 12 (Based on Android 11)\": \"Funtouch OS 12\",\n",
    "    \"MIUI 13, Android 12.0\": \"MIUI 13\",\n",
    "    \"Funtouch OS 12 Based On Android 12\": \"Funtouch OS 12\",\n",
    "    # \"Funtouch OS 12\": ,\n",
    "    \"MIUI 13, Android 12\": \"MIUI 13\",\n",
    "    \"Funtouch OS 13 Based On Android 13\": \"Funtouch OS 13\",\n",
    "    \"MIUI 14, Android 13.0\": \"MIUI 14\",\n",
    "    \"MIUI 12, Android 11.0\": \"MIUI 12\",\n",
    "    \"MIUI 12.5, Android MIUI 12.5\": \"MIUI 12.5\",\n",
    "    \"Android 11 MIUI 12.5 on, 3 years of Android updates, MIUI 12.5 on Android 11, 3 years of Android updates\": \"MIUI 12.5\",\n",
    "    # \"Android 8.0\": ,\n",
    "    # \"MIUI 12\": ,\n",
    "    \"Android 11 - MiUI 12.5, MiUI 12.5 (Android 11)\": \"MiUI 12.5\",\n",
    "    \"Android 11 Stock\": \"Android 11.0\",\n",
    "    \"Funtouch OS 11 (Based on Android 11)\": \"Funtouch OS 11\",\n",
    "    \"Funtouch OS 13 based on Android 13\": \"Funtouch OS 13\",\n",
    "    \"Android 11, Funtouch OS 11.1\": \"Funtouch OS 11\",\n",
    "    \"Go Edition, Android 11.0\": \"Android 11, go edition\",\n",
    "    \"Funtouch OS 12 (Based on Android 12)\": \"Funtouch OS 12\",\n",
    "    # \"MIUI 12.5\": ,\n",
    "    \"MIUI 12, Android 10.0\": \"MIUI 12\",\n",
    "    \"Android 11.1 based Funtouch OS 11.1\": \"Funtouch OS 11.1\",\n",
    "    \"Android 11 - Funtouch OS 11.1, Funtouch OS 11.1\": \"Funtouch OS 11.1\",\n",
    "    \"Android 11 MIUI 12.5\": \"MIUI 12.5\",\n",
    "    \"HiOS 8.0 based on Android 11, Android 10.0\": \"HiOS 8.0\",\n",
    "    \"HiOS 12.0 based on Android 12\": \"HiOS 12.0\",\n",
    "    # \"Windows 11 Home\": ,\n",
    "    \"Android 10 Go Edition\": \"Android 10, go edition\"\n",
    "}\n",
    "\n",
    "data[\"OS\"] = data['OS'].replace(replacements)"
   ]
  },
  {
   "cell_type": "code",
   "execution_count": null,
   "metadata": {},
   "outputs": [
    {
     "data": {
      "text/plain": [
       "OS\n",
       "Android 12.0              60\n",
       "Android 11.0              45\n",
       "Android 10.0              18\n",
       "Android 13.0              17\n",
       "Android                   16\n",
       "MIUI 13                   14\n",
       "Android 9.0               13\n",
       "OxygenOS                  12\n",
       "FunTouch OS 12            10\n",
       "Funtouch OS 12             9\n",
       "Android 8.1                8\n",
       "MIUI 12.5                  4\n",
       "HiOS 7.6                   4\n",
       "HiOS 8.6                   3\n",
       "MIUI 12                    3\n",
       "Android 12, go edition     3\n",
       "Funtouch OS 11.1           2\n",
       "Funtouch OS 11             2\n",
       "Funtouch OS 13             2\n",
       "MiUI 12.5                  1\n",
       "Android 8.0                1\n",
       "MIUI 14                    1\n",
       "Windows 11 Home            1\n",
       "Android 11, go edition     1\n",
       "HiOS 12.0                  1\n",
       "HiOS 8.0                   1\n",
       "Android 10, go edition     1\n",
       "Name: count, dtype: int64"
      ]
     },
     "execution_count": 359,
     "metadata": {},
     "output_type": "execute_result"
    }
   ],
   "source": [
    "data[\"OS\"].value_counts()"
   ]
  },
  {
   "cell_type": "code",
   "execution_count": null,
   "metadata": {},
   "outputs": [],
   "source": [
    "def extract_os_info(row):\n",
    "    os_info = str(row['OS'])\n",
    "    name = os_info.split()[0].lower()\n",
    "    go_edition = int(\"go edition\" in os_info)\n",
    "    try:\n",
    "        version = float(os_info.replace(',', '').split()[1])\n",
    "    except:\n",
    "        version = np.inf\n",
    "    \n",
    "    return name, version, go_edition\n",
    "\n",
    "\n",
    "data[['os_name', 'os_version', 'os_go?']] = data.apply(extract_os_info, axis=1, result_type='expand')"
   ]
  },
  {
   "cell_type": "code",
   "execution_count": null,
   "metadata": {},
   "outputs": [],
   "source": [
    "data.drop(columns=[\"OS\"], inplace=True)"
   ]
  },
  {
   "cell_type": "code",
   "execution_count": null,
   "metadata": {},
   "outputs": [],
   "source": [
    "data[data.notna().any(axis=1)].to_csv(\"temp.csv\")"
   ]
  },
  {
   "cell_type": "code",
   "execution_count": null,
   "metadata": {},
   "outputs": [],
   "source": []
  }
 ],
 "metadata": {
  "kernelspec": {
   "display_name": "venv",
   "language": "python",
   "name": "python3"
  },
  "language_info": {
   "codemirror_mode": {
    "name": "ipython",
    "version": 3
   },
   "file_extension": ".py",
   "mimetype": "text/x-python",
   "name": "python",
   "nbconvert_exporter": "python",
   "pygments_lexer": "ipython3",
   "version": "3.11.0"
  },
  "orig_nbformat": 4
 },
 "nbformat": 4,
 "nbformat_minor": 2
}
